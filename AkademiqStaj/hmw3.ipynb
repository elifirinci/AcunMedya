{
  "nbformat": 4,
  "nbformat_minor": 0,
  "metadata": {
    "colab": {
      "provenance": []
    },
    "kernelspec": {
      "name": "python3",
      "display_name": "Python 3"
    },
    "language_info": {
      "name": "python"
    }
  },
  "cells": [
    {
      "cell_type": "code",
      "execution_count": 55,
      "metadata": {
        "id": "vjUjs6LHan9D"
      },
      "outputs": [],
      "source": [
        "import pandas as pd\n",
        "df=pd.read_csv(\"/content/drive/MyDrive/heart_disease_uci.csv\")"
      ]
    },
    {
      "cell_type": "code",
      "source": [
        "print(df.info())"
      ],
      "metadata": {
        "colab": {
          "base_uri": "https://localhost:8080/"
        },
        "id": "YUEjbSV1a6aZ",
        "outputId": "f9b91115-9a47-4a82-c3ad-c150cd864c58"
      },
      "execution_count": 56,
      "outputs": [
        {
          "output_type": "stream",
          "name": "stdout",
          "text": [
            "<class 'pandas.core.frame.DataFrame'>\n",
            "RangeIndex: 920 entries, 0 to 919\n",
            "Data columns (total 16 columns):\n",
            " #   Column    Non-Null Count  Dtype  \n",
            "---  ------    --------------  -----  \n",
            " 0   id        920 non-null    int64  \n",
            " 1   age       920 non-null    int64  \n",
            " 2   sex       920 non-null    object \n",
            " 3   dataset   920 non-null    object \n",
            " 4   cp        920 non-null    object \n",
            " 5   trestbps  861 non-null    float64\n",
            " 6   chol      890 non-null    float64\n",
            " 7   fbs       830 non-null    object \n",
            " 8   restecg   918 non-null    object \n",
            " 9   thalch    865 non-null    float64\n",
            " 10  exang     865 non-null    object \n",
            " 11  oldpeak   858 non-null    float64\n",
            " 12  slope     611 non-null    object \n",
            " 13  ca        309 non-null    float64\n",
            " 14  thal      434 non-null    object \n",
            " 15  num       920 non-null    int64  \n",
            "dtypes: float64(5), int64(3), object(8)\n",
            "memory usage: 115.1+ KB\n",
            "None\n"
          ]
        }
      ]
    },
    {
      "cell_type": "code",
      "source": [
        "print(df.describe())"
      ],
      "metadata": {
        "colab": {
          "base_uri": "https://localhost:8080/"
        },
        "id": "dt2-pGZkbHpB",
        "outputId": "82355904-caf6-405e-8f83-66ede642ce8c"
      },
      "execution_count": 57,
      "outputs": [
        {
          "output_type": "stream",
          "name": "stdout",
          "text": [
            "               id         age    trestbps        chol      thalch     oldpeak  \\\n",
            "count  920.000000  920.000000  861.000000  890.000000  865.000000  858.000000   \n",
            "mean   460.500000   53.510870  132.132404  199.130337  137.545665    0.878788   \n",
            "std    265.725422    9.424685   19.066070  110.780810   25.926276    1.091226   \n",
            "min      1.000000   28.000000    0.000000    0.000000   60.000000   -2.600000   \n",
            "25%    230.750000   47.000000  120.000000  175.000000  120.000000    0.000000   \n",
            "50%    460.500000   54.000000  130.000000  223.000000  140.000000    0.500000   \n",
            "75%    690.250000   60.000000  140.000000  268.000000  157.000000    1.500000   \n",
            "max    920.000000   77.000000  200.000000  603.000000  202.000000    6.200000   \n",
            "\n",
            "               ca         num  \n",
            "count  309.000000  920.000000  \n",
            "mean     0.676375    0.995652  \n",
            "std      0.935653    1.142693  \n",
            "min      0.000000    0.000000  \n",
            "25%      0.000000    0.000000  \n",
            "50%      0.000000    1.000000  \n",
            "75%      1.000000    2.000000  \n",
            "max      3.000000    4.000000  \n"
          ]
        }
      ]
    },
    {
      "cell_type": "code",
      "source": [
        "print(df.isnull().sum())"
      ],
      "metadata": {
        "colab": {
          "base_uri": "https://localhost:8080/"
        },
        "id": "JCWAoXoqbKhw",
        "outputId": "d74bb6d8-6fe6-45dc-f975-243836caf18a"
      },
      "execution_count": 58,
      "outputs": [
        {
          "output_type": "stream",
          "name": "stdout",
          "text": [
            "id            0\n",
            "age           0\n",
            "sex           0\n",
            "dataset       0\n",
            "cp            0\n",
            "trestbps     59\n",
            "chol         30\n",
            "fbs          90\n",
            "restecg       2\n",
            "thalch       55\n",
            "exang        55\n",
            "oldpeak      62\n",
            "slope       309\n",
            "ca          611\n",
            "thal        486\n",
            "num           0\n",
            "dtype: int64\n"
          ]
        }
      ]
    },
    {
      "cell_type": "code",
      "source": [
        "categorical=df.select_dtypes(include=[\"object\",\"category\"]).columns\n",
        "numerical=df.select_dtypes(include=[\"float\",\"int64\"]).columns\n",
        "print(\"Kategorik Sütunlar:\",categorical)\n",
        "print(\"Numeric Sütunlar:\",numerical)"
      ],
      "metadata": {
        "colab": {
          "base_uri": "https://localhost:8080/"
        },
        "id": "uLJrWy0qbOxg",
        "outputId": "00d612b7-86f0-4fe8-ef71-d3147432a8ed"
      },
      "execution_count": 59,
      "outputs": [
        {
          "output_type": "stream",
          "name": "stdout",
          "text": [
            "Kategorik Sütunlar: Index(['sex', 'dataset', 'cp', 'fbs', 'restecg', 'exang', 'slope', 'thal'], dtype='object')\n",
            "Numeric Sütunlar: Index(['id', 'age', 'trestbps', 'chol', 'thalch', 'oldpeak', 'ca', 'num'], dtype='object')\n"
          ]
        }
      ]
    },
    {
      "cell_type": "code",
      "source": [
        "\n",
        "numeric_columns = ['trestbps', 'chol', 'thalch', 'oldpeak']\n",
        "df[numeric_columns] = df[numeric_columns].fillna(df[numeric_columns].mean())\n",
        "\n",
        "categorical_columns = ['fbs', 'restecg', 'exang', 'slope', 'thal']\n",
        "for col in categorical_columns:\n",
        "    df[col] = df[col].fillna(df[col].mode()[0])\n",
        "\n",
        "\n",
        "df.drop(columns=['ca'], inplace=True)\n",
        "\n",
        "# Temizlenmiş veriyi kontrol etme\n",
        "print(df.isnull().sum())"
      ],
      "metadata": {
        "colab": {
          "base_uri": "https://localhost:8080/"
        },
        "id": "PnbJZ2NEcCNN",
        "outputId": "e3300789-a509-4cca-c185-8ab28d63b859"
      },
      "execution_count": 60,
      "outputs": [
        {
          "output_type": "stream",
          "name": "stdout",
          "text": [
            "id          0\n",
            "age         0\n",
            "sex         0\n",
            "dataset     0\n",
            "cp          0\n",
            "trestbps    0\n",
            "chol        0\n",
            "fbs         0\n",
            "restecg     0\n",
            "thalch      0\n",
            "exang       0\n",
            "oldpeak     0\n",
            "slope       0\n",
            "thal        0\n",
            "num         0\n",
            "dtype: int64\n"
          ]
        },
        {
          "output_type": "stream",
          "name": "stderr",
          "text": [
            "<ipython-input-60-001004d0fb09>:6: FutureWarning: Downcasting object dtype arrays on .fillna, .ffill, .bfill is deprecated and will change in a future version. Call result.infer_objects(copy=False) instead. To opt-in to the future behavior, set `pd.set_option('future.no_silent_downcasting', True)`\n",
            "  df[col] = df[col].fillna(df[col].mode()[0])\n"
          ]
        }
      ]
    },
    {
      "cell_type": "code",
      "source": [
        "from sklearn.preprocessing import StandardScaler\n",
        "# StandardScaler uygula\n",
        "scaler = StandardScaler()\n",
        "df[numeric_columns] = scaler.fit_transform(df[numeric_columns])\n",
        "\n",
        "# Sonuçları göster\n",
        "print(df.head())\n"
      ],
      "metadata": {
        "colab": {
          "base_uri": "https://localhost:8080/"
        },
        "id": "KvN8eckHeu8l",
        "outputId": "a7e456e5-a543-4fef-cfd5-fc381c2e5547"
      },
      "execution_count": 61,
      "outputs": [
        {
          "output_type": "stream",
          "name": "stdout",
          "text": [
            "   id  age     sex    dataset               cp  trestbps      chol    fbs  \\\n",
            "0   1   63    Male  Cleveland   typical angina  0.698041  0.311021   True   \n",
            "1   2   67    Male  Cleveland     asymptomatic  1.511761  0.797713  False   \n",
            "2   3   67    Male  Cleveland     asymptomatic -0.658158  0.274289  False   \n",
            "3   4   37    Male  Cleveland      non-anginal -0.115679  0.467130  False   \n",
            "4   5   41  Female  Cleveland  atypical angina -0.115679  0.044717  False   \n",
            "\n",
            "          restecg    thalch  exang   oldpeak        slope               thal  \\\n",
            "0  lv hypertrophy  0.495698  False  1.349421  downsloping       fixed defect   \n",
            "1  lv hypertrophy -1.175955   True  0.589832         flat             normal   \n",
            "2  lv hypertrophy -0.340128   True  1.634267         flat  reversable defect   \n",
            "3          normal  1.968345  False  2.488805  downsloping             normal   \n",
            "4  lv hypertrophy  1.371326  False  0.494884    upsloping             normal   \n",
            "\n",
            "   num  \n",
            "0    0  \n",
            "1    2  \n",
            "2    1  \n",
            "3    0  \n",
            "4    0  \n"
          ]
        }
      ]
    },
    {
      "cell_type": "code",
      "source": [
        "from sklearn.preprocessing import LabelEncoder, OneHotEncoder\n",
        "# Label Encoding uygula\n",
        "label_encoder = LabelEncoder()\n",
        "for col in categorical_columns:\n",
        "    df[col] = label_encoder.fit_transform(df[col].astype(str))\n",
        "\n",
        "# One Hot Encoding uygula\n",
        "df = pd.get_dummies(df, columns=categorical_columns)\n",
        "\n",
        "# Sonuçları göster\n",
        "print(df.head())"
      ],
      "metadata": {
        "colab": {
          "base_uri": "https://localhost:8080/"
        },
        "id": "kPZqYemhfp_p",
        "outputId": "ef201e27-40b9-4d20-bb1c-20e4d7ff2467"
      },
      "execution_count": 63,
      "outputs": [
        {
          "output_type": "stream",
          "name": "stdout",
          "text": [
            "   id  age     sex    dataset               cp  trestbps      chol    thalch  \\\n",
            "0   1   63    Male  Cleveland   typical angina  0.698041  0.311021  0.495698   \n",
            "1   2   67    Male  Cleveland     asymptomatic  1.511761  0.797713 -1.175955   \n",
            "2   3   67    Male  Cleveland     asymptomatic -0.658158  0.274289 -0.340128   \n",
            "3   4   37    Male  Cleveland      non-anginal -0.115679  0.467130  1.968345   \n",
            "4   5   41  Female  Cleveland  atypical angina -0.115679  0.044717  1.371326   \n",
            "\n",
            "    oldpeak  num  ...  restecg_1  restecg_2  exang_0  exang_1  slope_0  \\\n",
            "0  1.349421    0  ...      False      False     True    False     True   \n",
            "1  0.589832    2  ...      False      False    False     True    False   \n",
            "2  1.634267    1  ...      False      False    False     True    False   \n",
            "3  2.488805    0  ...       True      False     True    False     True   \n",
            "4  0.494884    0  ...      False      False     True    False    False   \n",
            "\n",
            "   slope_1  slope_2  thal_0  thal_1  thal_2  \n",
            "0    False    False    True   False   False  \n",
            "1     True    False   False    True   False  \n",
            "2     True    False   False   False    True  \n",
            "3    False    False   False    True   False  \n",
            "4    False     True   False    True   False  \n",
            "\n",
            "[5 rows x 23 columns]\n"
          ]
        }
      ]
    }
  ]
}