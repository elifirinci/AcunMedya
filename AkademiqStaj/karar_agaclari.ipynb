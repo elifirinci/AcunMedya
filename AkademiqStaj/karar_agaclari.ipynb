{
  "nbformat": 4,
  "nbformat_minor": 0,
  "metadata": {
    "colab": {
      "provenance": []
    },
    "kernelspec": {
      "name": "python3",
      "display_name": "Python 3"
    },
    "language_info": {
      "name": "python"
    }
  },
  "cells": [
    {
      "cell_type": "markdown",
      "source": [
        "Bu veri seti, Türkiye'deki satılık konut ilanlarına ait detaylı bilgileri içermektedir. Amacı, ev fiyatlarını tahmin etmeye yönelik regresyon modelleri başta olmak üzere, veri analizi, özellik mühendisliği ve makine öğrenmesi uygulamaları için zengin ve anlamlı bir kaynak sunmaktır.\n",
        "\n",
        "Veri seti, hem sayısal hem de kategorik birçok özelliği barındırmakta olup, konutların fiziksel özellikleri, hukuki durumları ve ilan bilgileri hakkında kapsamlı bilgiler sunmaktadır.\n",
        "\n",
        "🏡 Özellik Açıklamaları:\n",
        "İlçe (District): Evin bulunduğu ilçe veya semt.\n",
        "\n",
        "Fiyat (Price): Evin satış fiyatı (Türk Lirası ₺ cinsinden). Bu proje kapsamında hedef değişken olarak kullanılmıştır.\n",
        "\n",
        "Adres (Address): Konutun açık adresi (tanımsal amaçlı).\n",
        "\n",
        "İlan Güncelleme / Oluşturma Tarihi (AdUpdateDate / AdCreationDate): İlanın son güncelleme ve ilk yayınlanma tarihleri.\n",
        "\n",
        "Kategori (Category): İlan türü — bu veri setinde sadece “Satılık”.\n",
        "\n",
        "Brüt / Net Metrekare (Gross / Net Square Meters): Evin toplam ve kullanılabilir alanı (m²).\n",
        "\n",
        "Bina Yaşı (BuildingAge): Binanın yaşı (yıl cinsinden).\n",
        "\n",
        "Binadaki Kat Sayısı / Daire Katı (NumberFloorsofBuilding / FloorLocation): Binanın toplam kat sayısı ve dairenin konumu.\n",
        "\n",
        "Oda Sayısı / Toplam Oda (NumberOfRooms / TotalRooms): Oda sayısı, örneğin \"3+1\" gibi formatlar da çözümlenmiştir.\n",
        "\n",
        "Isıtma Türü (HeatingType): Kombi, merkezi sistem, doğalgaz vb.\n",
        "\n",
        "Krediye Uygunluk (CreditEligibility): Evin konut kredisine uygunluğu.\n",
        "\n",
        "Site İçinde (InsideTheSite): Konutun bir site içerisinde olup olmadığı.\n",
        "\n",
        "Yatırıma Uygunluk (EligibilityForInvestment): Yatırımlık olup olmadığı.\n",
        "\n",
        "Eşya Durumu (ItemStatus): Evin eşyalı mı boş mu olduğu.\n",
        "\n",
        "Kullanım Durumu (UsingStatus): Evin şu anda kim tarafından kullanıldığı (mülk sahibi, kiracı, boş).\n",
        "\n",
        "Bina Durumu / Tapu Durumu / Yapı Türü / İpotek Durumu / Takas (BuildStatus / TitleStatus / StructureType / MortgageStatus / Swap): Yapı ile ilgili hukuki ve fiziksel durum bilgileri.\n",
        "\n",
        "Banyo ve WC Bilgileri: Sayı ve alan (m²) bilgileri.\n",
        "\n",
        "Balkon Bilgileri: Balkon sayısı, tipi (teras, açık vb.) ve alan bilgileri.\n",
        "\n",
        "Kira Getirisi (RentalIncome): Eğer mevcutsa, evin aylık kiraya verilmesi durumunda elde edilecek gelir.\n",
        "\n",
        "Salon, WC, Banyo, Balkon m²: Her bölüm için metrekare bilgileri.\n",
        "\n",
        "Video ile Gezilebilir mi? (IsItVideoNavigable?): İlanda video ile sanal tur imkanı var mı?\n",
        "\n",
        "Aidat (Subscription): Konutun bulunduğu yapıya ait aylık aidat ücreti."
      ],
      "metadata": {
        "id": "gTIObs6b-GdU"
      }
    },
    {
      "cell_type": "code",
      "execution_count": null,
      "metadata": {
        "colab": {
          "base_uri": "https://localhost:8080/"
        },
        "id": "XO3WCaHYna-C",
        "outputId": "e5b976ea-9e8e-497b-f845-8e713a9a381f"
      },
      "outputs": [
        {
          "output_type": "stream",
          "name": "stdout",
          "text": [
            "   Unnamed: 0 district         price  \\\n",
            "0           0   adalar   3,100,000TL   \n",
            "1           1   adalar   1,600,000TL   \n",
            "2           2   adalar  18,500,000TL   \n",
            "3           3   adalar   9,500,000TL   \n",
            "4           4   adalar  25,000,000TL   \n",
            "\n",
            "                                             address   AdUpdateDate Category  \\\n",
            "0  ['Anasayfa', 'Satılık Daire', 'İstanbul Satılı...  24 Şubat 2022  Satılık   \n",
            "1  ['Anasayfa', 'Satılık Daire', 'İstanbul Satılı...   02 Mart 2022  Satılık   \n",
            "2  ['Anasayfa', 'Satılık Müstakil Ev', 'İstanbul ...  11 Şubat 2022  Satılık   \n",
            "3  ['Anasayfa', 'Satılık Bina', 'İstanbul Satılık...  11 Şubat 2022  Satılık   \n",
            "4  ['Anasayfa', 'Satılık Köşk', 'İstanbul Satılık...   19 Ocak 2022  Satılık   \n",
            "\n",
            "  GrossSquareMeters  BuildingAge  NumberFloorsofBuilding  \\\n",
            "0            160 m2  21 Ve Üzeri                       3   \n",
            "1            120 m2         5-10                       3   \n",
            "2            350 m2  21 Ve Üzeri                       2   \n",
            "3            550 m2        11-15                       3   \n",
            "4            840 m2  21 Ve Üzeri                       4   \n",
            "\n",
            "            UsingStatus  ...  PriceStatus RentalIncome NumberOfBalconies  \\\n",
            "0  Mülk Sahibi Oturuyor  ...  Genel Fiyat          NaN               NaN   \n",
            "1  Mülk Sahibi Oturuyor  ...  Genel Fiyat          NaN               NaN   \n",
            "2  Mülk Sahibi Oturuyor  ...  Genel Fiyat          NaN               NaN   \n",
            "3  Mülk Sahibi Oturuyor  ...  Genel Fiyat          NaN               NaN   \n",
            "4                   Boş  ...  Genel Fiyat          NaN               NaN   \n",
            "\n",
            "  BalconyType HallSquareMeters WCSquareMeters IsItVideoNavigable?  \\\n",
            "0         NaN              NaN            NaN                 NaN   \n",
            "1         NaN              NaN            NaN                 NaN   \n",
            "2         NaN              NaN            NaN                 NaN   \n",
            "3         NaN              NaN            NaN                 NaN   \n",
            "4         NaN              NaN            NaN                 NaN   \n",
            "\n",
            "  Subscription BathroomSquareMeters BalconySquareMeters  \n",
            "0          NaN                  NaN                 NaN  \n",
            "1          NaN                  NaN                 NaN  \n",
            "2          NaN                  NaN                 NaN  \n",
            "3          NaN                  NaN                 NaN  \n",
            "4          NaN                  NaN                 NaN  \n",
            "\n",
            "[5 rows x 38 columns]\n"
          ]
        }
      ],
      "source": [
        "import pandas as pd\n",
        "\n",
        "df=pd.read_csv('/content/drive/MyDrive/HouseData.csv')\n",
        "\n",
        "# İlk 5 satırı görüntüle\n",
        "print(df.head())\n"
      ]
    },
    {
      "cell_type": "code",
      "source": [
        "print(df.info())"
      ],
      "metadata": {
        "colab": {
          "base_uri": "https://localhost:8080/"
        },
        "id": "GDC862_Cp4OU",
        "outputId": "df5a681b-8131-4d20-dd52-ab4ef5e903e1"
      },
      "execution_count": null,
      "outputs": [
        {
          "output_type": "stream",
          "name": "stdout",
          "text": [
            "<class 'pandas.core.frame.DataFrame'>\n",
            "RangeIndex: 25155 entries, 0 to 25154\n",
            "Data columns (total 38 columns):\n",
            " #   Column                    Non-Null Count  Dtype \n",
            "---  ------                    --------------  ----- \n",
            " 0   Unnamed: 0                25155 non-null  int64 \n",
            " 1   district                  25155 non-null  object\n",
            " 2   price                     25155 non-null  object\n",
            " 3   address                   25155 non-null  object\n",
            " 4   AdUpdateDate              25155 non-null  object\n",
            " 5   Category                  25155 non-null  object\n",
            " 6   GrossSquareMeters         25155 non-null  object\n",
            " 7   BuildingAge               25155 non-null  object\n",
            " 8   NumberFloorsofBuilding    25155 non-null  int64 \n",
            " 9   UsingStatus               25155 non-null  object\n",
            " 10  EligibilityForInvestment  21506 non-null  object\n",
            " 11  BuildStatus               11231 non-null  object\n",
            " 12  TitleStatus               9712 non-null   object\n",
            " 13  ItemStatus                18332 non-null  object\n",
            " 14  NumberOfBathrooms         25155 non-null  object\n",
            " 15  NumberOfWCs               8129 non-null   object\n",
            " 16  AdCreationDate            25155 non-null  object\n",
            " 17  Type                      25155 non-null  object\n",
            " 18  NetSquareMeters           25155 non-null  object\n",
            " 19  NumberOfRooms             25155 non-null  object\n",
            " 20  FloorLocation             25155 non-null  object\n",
            " 21  HeatingType               25155 non-null  object\n",
            " 22  CreditEligibility         25155 non-null  object\n",
            " 23  InsideTheSite             25155 non-null  object\n",
            " 24  StructureType             10406 non-null  object\n",
            " 25  MortgageStatus            6058 non-null   object\n",
            " 26  Swap                      20839 non-null  object\n",
            " 27  Balcony                   9109 non-null   object\n",
            " 28  PriceStatus               25155 non-null  object\n",
            " 29  RentalIncome              5815 non-null   object\n",
            " 30  NumberOfBalconies         5324 non-null   object\n",
            " 31  BalconyType               4720 non-null   object\n",
            " 32  HallSquareMeters          1433 non-null   object\n",
            " 33  WCSquareMeters            865 non-null    object\n",
            " 34  IsItVideoNavigable?       5481 non-null   object\n",
            " 35  Subscription              4488 non-null   object\n",
            " 36  BathroomSquareMeters      1112 non-null   object\n",
            " 37  BalconySquareMeters       1040 non-null   object\n",
            "dtypes: int64(2), object(36)\n",
            "memory usage: 7.3+ MB\n",
            "None\n"
          ]
        }
      ]
    },
    {
      "cell_type": "code",
      "source": [
        "print(df.isna().sum())"
      ],
      "metadata": {
        "colab": {
          "base_uri": "https://localhost:8080/"
        },
        "id": "_OLA9JnVpUIm",
        "outputId": "71873848-70cf-41f5-d891-93ab257dae56"
      },
      "execution_count": null,
      "outputs": [
        {
          "output_type": "stream",
          "name": "stdout",
          "text": [
            "Unnamed: 0                      0\n",
            "district                        0\n",
            "price                           0\n",
            "address                         0\n",
            "AdUpdateDate                    0\n",
            "Category                        0\n",
            "GrossSquareMeters               0\n",
            "BuildingAge                     0\n",
            "NumberFloorsofBuilding          0\n",
            "UsingStatus                     0\n",
            "EligibilityForInvestment     3649\n",
            "BuildStatus                 13924\n",
            "TitleStatus                 15443\n",
            "ItemStatus                   6823\n",
            "NumberOfBathrooms               0\n",
            "NumberOfWCs                 17026\n",
            "AdCreationDate                  0\n",
            "Type                            0\n",
            "NetSquareMeters                 0\n",
            "NumberOfRooms                   0\n",
            "FloorLocation                   0\n",
            "HeatingType                     0\n",
            "CreditEligibility               0\n",
            "InsideTheSite                   0\n",
            "StructureType               14749\n",
            "MortgageStatus              19097\n",
            "Swap                         4316\n",
            "Balcony                     16046\n",
            "PriceStatus                     0\n",
            "RentalIncome                19340\n",
            "NumberOfBalconies           19831\n",
            "BalconyType                 20435\n",
            "HallSquareMeters            23722\n",
            "WCSquareMeters              24290\n",
            "IsItVideoNavigable?         19674\n",
            "Subscription                20667\n",
            "BathroomSquareMeters        24043\n",
            "BalconySquareMeters         24115\n",
            "dtype: int64\n"
          ]
        }
      ]
    },
    {
      "cell_type": "markdown",
      "source": [
        "25155 satırdan 13bin ve üstü eksik veri olanları sildim,eksik oranları %50den fazla"
      ],
      "metadata": {
        "id": "WHRdqQVCqHF3"
      }
    },
    {
      "cell_type": "code",
      "source": [
        "drop_cols = [\n",
        "    'BuildStatus',\n",
        "    'TitleStatus',\n",
        "    'NumberOfWCs',\n",
        "    'StructureType',\n",
        "    'MortgageStatus',\n",
        "    'Balcony',\n",
        "    'RentalIncome',\n",
        "    'NumberOfBalconies',\n",
        "    'BalconyType',\n",
        "    'HallSquareMeters',\n",
        "    'WCSquareMeters',\n",
        "    'IsItVideoNavigable?',\n",
        "    'Subscription',\n",
        "    'BathroomSquareMeters',\n",
        "    'BalconySquareMeters'\n",
        "]\n",
        "df.drop(columns=drop_cols, inplace=True)\n"
      ],
      "metadata": {
        "id": "eP4XzItaqX4g"
      },
      "execution_count": null,
      "outputs": []
    },
    {
      "cell_type": "markdown",
      "source": [
        "Diğer 3 sütun da categorical olduğu için eksikleri mod ile dolduruyoruz"
      ],
      "metadata": {
        "id": "4rkg8PqZrfE6"
      }
    },
    {
      "cell_type": "code",
      "source": [
        "# Kategorik sütunların mod ile doldurulması\n",
        "categorical_cols = ['Swap', 'EligibilityForInvestment', 'ItemStatus']\n",
        "\n",
        "for col in categorical_cols:\n",
        "    mode_val = df[col].mode()[0]\n",
        "    df[col].fillna(mode_val, inplace=True)\n"
      ],
      "metadata": {
        "colab": {
          "base_uri": "https://localhost:8080/"
        },
        "id": "o1F5CCE3rli2",
        "outputId": "0e9906bb-1fc7-4ede-cc23-16dd95f10ef4"
      },
      "execution_count": null,
      "outputs": [
        {
          "output_type": "stream",
          "name": "stderr",
          "text": [
            "<ipython-input-213-4d6e7b6d8e67>:6: FutureWarning: A value is trying to be set on a copy of a DataFrame or Series through chained assignment using an inplace method.\n",
            "The behavior will change in pandas 3.0. This inplace method will never work because the intermediate object on which we are setting values always behaves as a copy.\n",
            "\n",
            "For example, when doing 'df[col].method(value, inplace=True)', try using 'df.method({col: value}, inplace=True)' or df[col] = df[col].method(value) instead, to perform the operation inplace on the original object.\n",
            "\n",
            "\n",
            "  df[col].fillna(mode_val, inplace=True)\n"
          ]
        }
      ]
    },
    {
      "cell_type": "code",
      "source": [
        "print(df.isna().sum())"
      ],
      "metadata": {
        "colab": {
          "base_uri": "https://localhost:8080/"
        },
        "id": "QWHxk6R8rqEw",
        "outputId": "cc095e07-acc9-411f-94bd-ebcf605978e8"
      },
      "execution_count": null,
      "outputs": [
        {
          "output_type": "stream",
          "name": "stdout",
          "text": [
            "Unnamed: 0                  0\n",
            "district                    0\n",
            "price                       0\n",
            "address                     0\n",
            "AdUpdateDate                0\n",
            "Category                    0\n",
            "GrossSquareMeters           0\n",
            "BuildingAge                 0\n",
            "NumberFloorsofBuilding      0\n",
            "UsingStatus                 0\n",
            "EligibilityForInvestment    0\n",
            "ItemStatus                  0\n",
            "NumberOfBathrooms           0\n",
            "AdCreationDate              0\n",
            "Type                        0\n",
            "NetSquareMeters             0\n",
            "NumberOfRooms               0\n",
            "FloorLocation               0\n",
            "HeatingType                 0\n",
            "CreditEligibility           0\n",
            "InsideTheSite               0\n",
            "Swap                        0\n",
            "PriceStatus                 0\n",
            "dtype: int64\n"
          ]
        }
      ]
    },
    {
      "cell_type": "code",
      "source": [
        "print(df.isnull().sum())"
      ],
      "metadata": {
        "colab": {
          "base_uri": "https://localhost:8080/"
        },
        "id": "mcpIAfp1ru8v",
        "outputId": "f7c2dcef-7e54-4184-e970-2840251d12ed"
      },
      "execution_count": null,
      "outputs": [
        {
          "output_type": "stream",
          "name": "stdout",
          "text": [
            "Unnamed: 0                  0\n",
            "district                    0\n",
            "price                       0\n",
            "address                     0\n",
            "AdUpdateDate                0\n",
            "Category                    0\n",
            "GrossSquareMeters           0\n",
            "BuildingAge                 0\n",
            "NumberFloorsofBuilding      0\n",
            "UsingStatus                 0\n",
            "EligibilityForInvestment    0\n",
            "ItemStatus                  0\n",
            "NumberOfBathrooms           0\n",
            "AdCreationDate              0\n",
            "Type                        0\n",
            "NetSquareMeters             0\n",
            "NumberOfRooms               0\n",
            "FloorLocation               0\n",
            "HeatingType                 0\n",
            "CreditEligibility           0\n",
            "InsideTheSite               0\n",
            "Swap                        0\n",
            "PriceStatus                 0\n",
            "dtype: int64\n"
          ]
        }
      ]
    },
    {
      "cell_type": "markdown",
      "source": [
        "Değerleri uygun forma dönüşütüyoruz ve gereksiz sütunları siliyoruz\n",
        "\n",
        "\n",
        "\n"
      ],
      "metadata": {
        "id": "o9H-CHcet4X9"
      }
    },
    {
      "cell_type": "code",
      "source": [
        "df['price'] = (\n",
        "    df['price']\n",
        "    .str.replace('[^0-9]', '', regex=True)\n",
        "    .astype(float)\n",
        ")\n",
        "df['GrossSquareMeters'] = (\n",
        "    df['GrossSquareMeters']\n",
        "    .str.replace('[^0-9]', '', regex=True)\n",
        "    .astype(float)\n",
        ")\n",
        "\n",
        "df['NetSquareMeters'] = (\n",
        "    df['NetSquareMeters']\n",
        "    .str.replace('[^0-9]', '', regex=True)\n",
        "    .astype(float)\n",
        ")\n",
        "import numpy as np\n",
        "\n",
        "def parse_rooms(x):\n",
        "    x = str(x).lower().replace('oda', '').replace(' ', '').replace('+', '+')\n",
        "    if '8+' in x:\n",
        "        return 8  # max olarak kabul et\n",
        "    try:\n",
        "        parts = x.split('+')\n",
        "        return sum(int(p) for p in parts if p.isdigit())\n",
        "    except:\n",
        "        return np.nan\n",
        "\n",
        "df['TotalRooms'] = df['NumberOfRooms'].apply(parse_rooms)\n",
        "def age_to_num(x):\n",
        "    if '21' in x:\n",
        "        return 21\n",
        "    elif '-' in x:\n",
        "        try:\n",
        "            return int(x.split('-')[1])\n",
        "        except:\n",
        "            return np.nan\n",
        "    else:\n",
        "        try:\n",
        "            return int(x)\n",
        "        except:\n",
        "            return np.nan\n",
        "\n",
        "df['BuildingAge'] = df['BuildingAge'].apply(age_to_num)\n",
        "df.drop(columns=['address'], inplace=True)\n",
        "\n",
        "df.drop(columns=['AdUpdateDate', 'AdCreationDate','Unnamed: 0', 'Category','NumberFloorsofBuilding', 'UsingStatus', 'EligibilityForInvestment','NumberOfBathrooms', 'Type', 'HeatingType', 'CreditEligibility',\n",
        "       'Swap',  'PriceStatus'], inplace=True)\n"
      ],
      "metadata": {
        "id": "Hwb3xeHjt7YV"
      },
      "execution_count": null,
      "outputs": []
    },
    {
      "cell_type": "code",
      "source": [
        "df.info()"
      ],
      "metadata": {
        "colab": {
          "base_uri": "https://localhost:8080/"
        },
        "id": "IzAV6UDDudgU",
        "outputId": "c7e08ee5-971b-4d4b-8ef6-6c8324cc44a5"
      },
      "execution_count": null,
      "outputs": [
        {
          "output_type": "stream",
          "name": "stdout",
          "text": [
            "<class 'pandas.core.frame.DataFrame'>\n",
            "RangeIndex: 25155 entries, 0 to 25154\n",
            "Data columns (total 10 columns):\n",
            " #   Column             Non-Null Count  Dtype  \n",
            "---  ------             --------------  -----  \n",
            " 0   district           25155 non-null  object \n",
            " 1   price              25155 non-null  float64\n",
            " 2   GrossSquareMeters  25155 non-null  float64\n",
            " 3   BuildingAge        17821 non-null  float64\n",
            " 4   ItemStatus         25155 non-null  object \n",
            " 5   NetSquareMeters    25155 non-null  float64\n",
            " 6   NumberOfRooms      25155 non-null  object \n",
            " 7   FloorLocation      25155 non-null  object \n",
            " 8   InsideTheSite      25155 non-null  object \n",
            " 9   TotalRooms         25155 non-null  int64  \n",
            "dtypes: float64(4), int64(1), object(5)\n",
            "memory usage: 1.9+ MB\n"
          ]
        }
      ]
    },
    {
      "cell_type": "markdown",
      "source": [
        "BuildingAge değişkeni numericala dönüştürüldükten sonra eksik değere sahip olduğu görüldü. Median ile dolduruldu."
      ],
      "metadata": {
        "id": "H7EeTi8ZvjMf"
      }
    },
    {
      "cell_type": "code",
      "source": [
        "df['BuildingAge'].fillna(df['BuildingAge'].median(), inplace=True)\n"
      ],
      "metadata": {
        "colab": {
          "base_uri": "https://localhost:8080/"
        },
        "id": "EZ5tKHWdvwcI",
        "outputId": "2fb1237c-56b2-4715-d19d-2a938025c426"
      },
      "execution_count": null,
      "outputs": [
        {
          "output_type": "stream",
          "name": "stderr",
          "text": [
            "<ipython-input-218-ab12aa865c16>:1: FutureWarning: A value is trying to be set on a copy of a DataFrame or Series through chained assignment using an inplace method.\n",
            "The behavior will change in pandas 3.0. This inplace method will never work because the intermediate object on which we are setting values always behaves as a copy.\n",
            "\n",
            "For example, when doing 'df[col].method(value, inplace=True)', try using 'df.method({col: value}, inplace=True)' or df[col] = df[col].method(value) instead, to perform the operation inplace on the original object.\n",
            "\n",
            "\n",
            "  df['BuildingAge'].fillna(df['BuildingAge'].median(), inplace=True)\n"
          ]
        }
      ]
    },
    {
      "cell_type": "code",
      "source": [
        "df.describe()"
      ],
      "metadata": {
        "colab": {
          "base_uri": "https://localhost:8080/",
          "height": 300
        },
        "id": "1GJTAIjDuhuZ",
        "outputId": "9caf48f0-48f5-4fb9-cd85-1e4b3678d13c"
      },
      "execution_count": null,
      "outputs": [
        {
          "output_type": "execute_result",
          "data": {
            "text/plain": [
              "              price  GrossSquareMeters   BuildingAge  NetSquareMeters  \\\n",
              "count  2.515500e+04       25155.000000  25155.000000     25155.000000   \n",
              "mean   1.287062e+07        1751.597297     11.299304      1449.045518   \n",
              "std    2.916856e+08        5476.426325      6.009433      4446.371246   \n",
              "min    2.000000e+04         322.000000      1.000000        12.000000   \n",
              "25%    8.000000e+05         952.000000     10.000000       837.000000   \n",
              "50%    1.450000e+06        1242.000000     10.000000      1052.000000   \n",
              "75%    3.500000e+06        1702.000000     15.000000      1482.000000   \n",
              "max    3.850000e+10      523002.000000     21.000000    520002.000000   \n",
              "\n",
              "         TotalRooms  \n",
              "count  25155.000000  \n",
              "mean       3.820433  \n",
              "std        1.493564  \n",
              "min        0.000000  \n",
              "25%        3.000000  \n",
              "50%        4.000000  \n",
              "75%        4.000000  \n",
              "max       10.000000  "
            ],
            "text/html": [
              "\n",
              "  <div id=\"df-418b7821-b456-49b2-9be4-507d31d11b02\" class=\"colab-df-container\">\n",
              "    <div>\n",
              "<style scoped>\n",
              "    .dataframe tbody tr th:only-of-type {\n",
              "        vertical-align: middle;\n",
              "    }\n",
              "\n",
              "    .dataframe tbody tr th {\n",
              "        vertical-align: top;\n",
              "    }\n",
              "\n",
              "    .dataframe thead th {\n",
              "        text-align: right;\n",
              "    }\n",
              "</style>\n",
              "<table border=\"1\" class=\"dataframe\">\n",
              "  <thead>\n",
              "    <tr style=\"text-align: right;\">\n",
              "      <th></th>\n",
              "      <th>price</th>\n",
              "      <th>GrossSquareMeters</th>\n",
              "      <th>BuildingAge</th>\n",
              "      <th>NetSquareMeters</th>\n",
              "      <th>TotalRooms</th>\n",
              "    </tr>\n",
              "  </thead>\n",
              "  <tbody>\n",
              "    <tr>\n",
              "      <th>count</th>\n",
              "      <td>2.515500e+04</td>\n",
              "      <td>25155.000000</td>\n",
              "      <td>25155.000000</td>\n",
              "      <td>25155.000000</td>\n",
              "      <td>25155.000000</td>\n",
              "    </tr>\n",
              "    <tr>\n",
              "      <th>mean</th>\n",
              "      <td>1.287062e+07</td>\n",
              "      <td>1751.597297</td>\n",
              "      <td>11.299304</td>\n",
              "      <td>1449.045518</td>\n",
              "      <td>3.820433</td>\n",
              "    </tr>\n",
              "    <tr>\n",
              "      <th>std</th>\n",
              "      <td>2.916856e+08</td>\n",
              "      <td>5476.426325</td>\n",
              "      <td>6.009433</td>\n",
              "      <td>4446.371246</td>\n",
              "      <td>1.493564</td>\n",
              "    </tr>\n",
              "    <tr>\n",
              "      <th>min</th>\n",
              "      <td>2.000000e+04</td>\n",
              "      <td>322.000000</td>\n",
              "      <td>1.000000</td>\n",
              "      <td>12.000000</td>\n",
              "      <td>0.000000</td>\n",
              "    </tr>\n",
              "    <tr>\n",
              "      <th>25%</th>\n",
              "      <td>8.000000e+05</td>\n",
              "      <td>952.000000</td>\n",
              "      <td>10.000000</td>\n",
              "      <td>837.000000</td>\n",
              "      <td>3.000000</td>\n",
              "    </tr>\n",
              "    <tr>\n",
              "      <th>50%</th>\n",
              "      <td>1.450000e+06</td>\n",
              "      <td>1242.000000</td>\n",
              "      <td>10.000000</td>\n",
              "      <td>1052.000000</td>\n",
              "      <td>4.000000</td>\n",
              "    </tr>\n",
              "    <tr>\n",
              "      <th>75%</th>\n",
              "      <td>3.500000e+06</td>\n",
              "      <td>1702.000000</td>\n",
              "      <td>15.000000</td>\n",
              "      <td>1482.000000</td>\n",
              "      <td>4.000000</td>\n",
              "    </tr>\n",
              "    <tr>\n",
              "      <th>max</th>\n",
              "      <td>3.850000e+10</td>\n",
              "      <td>523002.000000</td>\n",
              "      <td>21.000000</td>\n",
              "      <td>520002.000000</td>\n",
              "      <td>10.000000</td>\n",
              "    </tr>\n",
              "  </tbody>\n",
              "</table>\n",
              "</div>\n",
              "    <div class=\"colab-df-buttons\">\n",
              "\n",
              "  <div class=\"colab-df-container\">\n",
              "    <button class=\"colab-df-convert\" onclick=\"convertToInteractive('df-418b7821-b456-49b2-9be4-507d31d11b02')\"\n",
              "            title=\"Convert this dataframe to an interactive table.\"\n",
              "            style=\"display:none;\">\n",
              "\n",
              "  <svg xmlns=\"http://www.w3.org/2000/svg\" height=\"24px\" viewBox=\"0 -960 960 960\">\n",
              "    <path d=\"M120-120v-720h720v720H120Zm60-500h600v-160H180v160Zm220 220h160v-160H400v160Zm0 220h160v-160H400v160ZM180-400h160v-160H180v160Zm440 0h160v-160H620v160ZM180-180h160v-160H180v160Zm440 0h160v-160H620v160Z\"/>\n",
              "  </svg>\n",
              "    </button>\n",
              "\n",
              "  <style>\n",
              "    .colab-df-container {\n",
              "      display:flex;\n",
              "      gap: 12px;\n",
              "    }\n",
              "\n",
              "    .colab-df-convert {\n",
              "      background-color: #E8F0FE;\n",
              "      border: none;\n",
              "      border-radius: 50%;\n",
              "      cursor: pointer;\n",
              "      display: none;\n",
              "      fill: #1967D2;\n",
              "      height: 32px;\n",
              "      padding: 0 0 0 0;\n",
              "      width: 32px;\n",
              "    }\n",
              "\n",
              "    .colab-df-convert:hover {\n",
              "      background-color: #E2EBFA;\n",
              "      box-shadow: 0px 1px 2px rgba(60, 64, 67, 0.3), 0px 1px 3px 1px rgba(60, 64, 67, 0.15);\n",
              "      fill: #174EA6;\n",
              "    }\n",
              "\n",
              "    .colab-df-buttons div {\n",
              "      margin-bottom: 4px;\n",
              "    }\n",
              "\n",
              "    [theme=dark] .colab-df-convert {\n",
              "      background-color: #3B4455;\n",
              "      fill: #D2E3FC;\n",
              "    }\n",
              "\n",
              "    [theme=dark] .colab-df-convert:hover {\n",
              "      background-color: #434B5C;\n",
              "      box-shadow: 0px 1px 3px 1px rgba(0, 0, 0, 0.15);\n",
              "      filter: drop-shadow(0px 1px 2px rgba(0, 0, 0, 0.3));\n",
              "      fill: #FFFFFF;\n",
              "    }\n",
              "  </style>\n",
              "\n",
              "    <script>\n",
              "      const buttonEl =\n",
              "        document.querySelector('#df-418b7821-b456-49b2-9be4-507d31d11b02 button.colab-df-convert');\n",
              "      buttonEl.style.display =\n",
              "        google.colab.kernel.accessAllowed ? 'block' : 'none';\n",
              "\n",
              "      async function convertToInteractive(key) {\n",
              "        const element = document.querySelector('#df-418b7821-b456-49b2-9be4-507d31d11b02');\n",
              "        const dataTable =\n",
              "          await google.colab.kernel.invokeFunction('convertToInteractive',\n",
              "                                                    [key], {});\n",
              "        if (!dataTable) return;\n",
              "\n",
              "        const docLinkHtml = 'Like what you see? Visit the ' +\n",
              "          '<a target=\"_blank\" href=https://colab.research.google.com/notebooks/data_table.ipynb>data table notebook</a>'\n",
              "          + ' to learn more about interactive tables.';\n",
              "        element.innerHTML = '';\n",
              "        dataTable['output_type'] = 'display_data';\n",
              "        await google.colab.output.renderOutput(dataTable, element);\n",
              "        const docLink = document.createElement('div');\n",
              "        docLink.innerHTML = docLinkHtml;\n",
              "        element.appendChild(docLink);\n",
              "      }\n",
              "    </script>\n",
              "  </div>\n",
              "\n",
              "\n",
              "    <div id=\"df-53a9fed6-757c-4e76-8c22-5f60545aac65\">\n",
              "      <button class=\"colab-df-quickchart\" onclick=\"quickchart('df-53a9fed6-757c-4e76-8c22-5f60545aac65')\"\n",
              "                title=\"Suggest charts\"\n",
              "                style=\"display:none;\">\n",
              "\n",
              "<svg xmlns=\"http://www.w3.org/2000/svg\" height=\"24px\"viewBox=\"0 0 24 24\"\n",
              "     width=\"24px\">\n",
              "    <g>\n",
              "        <path d=\"M19 3H5c-1.1 0-2 .9-2 2v14c0 1.1.9 2 2 2h14c1.1 0 2-.9 2-2V5c0-1.1-.9-2-2-2zM9 17H7v-7h2v7zm4 0h-2V7h2v10zm4 0h-2v-4h2v4z\"/>\n",
              "    </g>\n",
              "</svg>\n",
              "      </button>\n",
              "\n",
              "<style>\n",
              "  .colab-df-quickchart {\n",
              "      --bg-color: #E8F0FE;\n",
              "      --fill-color: #1967D2;\n",
              "      --hover-bg-color: #E2EBFA;\n",
              "      --hover-fill-color: #174EA6;\n",
              "      --disabled-fill-color: #AAA;\n",
              "      --disabled-bg-color: #DDD;\n",
              "  }\n",
              "\n",
              "  [theme=dark] .colab-df-quickchart {\n",
              "      --bg-color: #3B4455;\n",
              "      --fill-color: #D2E3FC;\n",
              "      --hover-bg-color: #434B5C;\n",
              "      --hover-fill-color: #FFFFFF;\n",
              "      --disabled-bg-color: #3B4455;\n",
              "      --disabled-fill-color: #666;\n",
              "  }\n",
              "\n",
              "  .colab-df-quickchart {\n",
              "    background-color: var(--bg-color);\n",
              "    border: none;\n",
              "    border-radius: 50%;\n",
              "    cursor: pointer;\n",
              "    display: none;\n",
              "    fill: var(--fill-color);\n",
              "    height: 32px;\n",
              "    padding: 0;\n",
              "    width: 32px;\n",
              "  }\n",
              "\n",
              "  .colab-df-quickchart:hover {\n",
              "    background-color: var(--hover-bg-color);\n",
              "    box-shadow: 0 1px 2px rgba(60, 64, 67, 0.3), 0 1px 3px 1px rgba(60, 64, 67, 0.15);\n",
              "    fill: var(--button-hover-fill-color);\n",
              "  }\n",
              "\n",
              "  .colab-df-quickchart-complete:disabled,\n",
              "  .colab-df-quickchart-complete:disabled:hover {\n",
              "    background-color: var(--disabled-bg-color);\n",
              "    fill: var(--disabled-fill-color);\n",
              "    box-shadow: none;\n",
              "  }\n",
              "\n",
              "  .colab-df-spinner {\n",
              "    border: 2px solid var(--fill-color);\n",
              "    border-color: transparent;\n",
              "    border-bottom-color: var(--fill-color);\n",
              "    animation:\n",
              "      spin 1s steps(1) infinite;\n",
              "  }\n",
              "\n",
              "  @keyframes spin {\n",
              "    0% {\n",
              "      border-color: transparent;\n",
              "      border-bottom-color: var(--fill-color);\n",
              "      border-left-color: var(--fill-color);\n",
              "    }\n",
              "    20% {\n",
              "      border-color: transparent;\n",
              "      border-left-color: var(--fill-color);\n",
              "      border-top-color: var(--fill-color);\n",
              "    }\n",
              "    30% {\n",
              "      border-color: transparent;\n",
              "      border-left-color: var(--fill-color);\n",
              "      border-top-color: var(--fill-color);\n",
              "      border-right-color: var(--fill-color);\n",
              "    }\n",
              "    40% {\n",
              "      border-color: transparent;\n",
              "      border-right-color: var(--fill-color);\n",
              "      border-top-color: var(--fill-color);\n",
              "    }\n",
              "    60% {\n",
              "      border-color: transparent;\n",
              "      border-right-color: var(--fill-color);\n",
              "    }\n",
              "    80% {\n",
              "      border-color: transparent;\n",
              "      border-right-color: var(--fill-color);\n",
              "      border-bottom-color: var(--fill-color);\n",
              "    }\n",
              "    90% {\n",
              "      border-color: transparent;\n",
              "      border-bottom-color: var(--fill-color);\n",
              "    }\n",
              "  }\n",
              "</style>\n",
              "\n",
              "      <script>\n",
              "        async function quickchart(key) {\n",
              "          const quickchartButtonEl =\n",
              "            document.querySelector('#' + key + ' button');\n",
              "          quickchartButtonEl.disabled = true;  // To prevent multiple clicks.\n",
              "          quickchartButtonEl.classList.add('colab-df-spinner');\n",
              "          try {\n",
              "            const charts = await google.colab.kernel.invokeFunction(\n",
              "                'suggestCharts', [key], {});\n",
              "          } catch (error) {\n",
              "            console.error('Error during call to suggestCharts:', error);\n",
              "          }\n",
              "          quickchartButtonEl.classList.remove('colab-df-spinner');\n",
              "          quickchartButtonEl.classList.add('colab-df-quickchart-complete');\n",
              "        }\n",
              "        (() => {\n",
              "          let quickchartButtonEl =\n",
              "            document.querySelector('#df-53a9fed6-757c-4e76-8c22-5f60545aac65 button');\n",
              "          quickchartButtonEl.style.display =\n",
              "            google.colab.kernel.accessAllowed ? 'block' : 'none';\n",
              "        })();\n",
              "      </script>\n",
              "    </div>\n",
              "\n",
              "    </div>\n",
              "  </div>\n"
            ],
            "application/vnd.google.colaboratory.intrinsic+json": {
              "type": "dataframe",
              "summary": "{\n  \"name\": \"df\",\n  \"rows\": 8,\n  \"fields\": [\n    {\n      \"column\": \"price\",\n      \"properties\": {\n        \"dtype\": \"number\",\n        \"std\": 13596506064.442978,\n        \"min\": 20000.0,\n        \"max\": 38500000016.0,\n        \"num_unique_values\": 8,\n        \"samples\": [\n          12870621.53802425,\n          1450000.0,\n          25155.0\n        ],\n        \"semantic_type\": \"\",\n        \"description\": \"\"\n      }\n    },\n    {\n      \"column\": \"GrossSquareMeters\",\n      \"properties\": {\n        \"dtype\": \"number\",\n        \"std\": 183247.6590057429,\n        \"min\": 322.0,\n        \"max\": 523002.0,\n        \"num_unique_values\": 8,\n        \"samples\": [\n          1751.5972967600874,\n          1242.0,\n          25155.0\n        ],\n        \"semantic_type\": \"\",\n        \"description\": \"\"\n      }\n    },\n    {\n      \"column\": \"BuildingAge\",\n      \"properties\": {\n        \"dtype\": \"number\",\n        \"std\": 8889.884326484376,\n        \"min\": 1.0,\n        \"max\": 25155.0,\n        \"num_unique_values\": 7,\n        \"samples\": [\n          25155.0,\n          11.299304313257801,\n          15.0\n        ],\n        \"semantic_type\": \"\",\n        \"description\": \"\"\n      }\n    },\n    {\n      \"column\": \"NetSquareMeters\",\n      \"properties\": {\n        \"dtype\": \"number\",\n        \"std\": 182301.12404635578,\n        \"min\": 12.0,\n        \"max\": 520002.0,\n        \"num_unique_values\": 8,\n        \"samples\": [\n          1449.0455177897038,\n          1052.0,\n          25155.0\n        ],\n        \"semantic_type\": \"\",\n        \"description\": \"\"\n      }\n    },\n    {\n      \"column\": \"TotalRooms\",\n      \"properties\": {\n        \"dtype\": \"number\",\n        \"std\": 8892.306955976228,\n        \"min\": 0.0,\n        \"max\": 25155.0,\n        \"num_unique_values\": 7,\n        \"samples\": [\n          25155.0,\n          3.820433313456569,\n          4.0\n        ],\n        \"semantic_type\": \"\",\n        \"description\": \"\"\n      }\n    }\n  ]\n}"
            }
          },
          "metadata": {},
          "execution_count": 219
        }
      ]
    },
    {
      "cell_type": "markdown",
      "source": [
        "Price değişkeninde min max değerleri arasında çok büyük fark var ve standart sapma ortalamaya göre çok yüksek. Aykırı değerler var\n",
        "\n",
        "GrossSquareMeters max değeri ve standart sapması yüksek aykırı değerler var\n",
        "\n",
        "NetSquareMeters max değeri çok uçuk değerde\n",
        "\n",
        "TotalRooms 0 olamaz bu da eksik değer olduğunu gösteriyor, TotalRoomsda 0 olan değerleri medyan ile dolduruyoruz"
      ],
      "metadata": {
        "id": "z_JvDDERwGmV"
      }
    },
    {
      "cell_type": "code",
      "source": [
        "median_rooms = df.loc[df['TotalRooms'] > 0, 'TotalRooms'].median()\n",
        "df.loc[df['TotalRooms'] == 0, 'TotalRooms'] = median_rooms\n"
      ],
      "metadata": {
        "id": "5ZoMoJb9xWdm"
      },
      "execution_count": null,
      "outputs": []
    },
    {
      "cell_type": "markdown",
      "source": [
        "Feauture Engineeringle yeni veriler ekliyoruz."
      ],
      "metadata": {
        "id": "fXspCLfyx0We"
      }
    },
    {
      "cell_type": "code",
      "source": [
        "# 1. Verimlilik (Net/Gross m²)\n",
        "df['Efficiency'] = df['NetSquareMeters'] / df['GrossSquareMeters']\n",
        "\n",
        "# 2. Birim fiyat\n",
        "df['PricePerSquareMeter'] = df['price'] / df['NetSquareMeters']\n",
        "\n",
        "# 3. Bina yaş kategorisi\n",
        "df['BuildingAgeGroup'] = pd.cut(\n",
        "    df['BuildingAge'],\n",
        "    bins=[0, 5, 10, 20, df['BuildingAge'].max()],\n",
        "    labels=['0-5', '6-10', '11-20', '21+']\n",
        ")\n",
        "\n",
        "# 4. Kat türünü sadeleştirme\n",
        "def simplify_floor(floor):\n",
        "    floor = str(floor).lower()\n",
        "    if 'bahçe' in floor or 'zemin' in floor:\n",
        "        return 'Zemin'\n",
        "    elif 'giriş' in floor:\n",
        "        return 'Giriş'\n",
        "    elif 'çatı' in floor:\n",
        "        return 'Çatı'\n",
        "    elif 'yüksek' in floor:\n",
        "        return 'Yüksek'\n",
        "    elif 'ara' in floor:\n",
        "        return 'Ara Kat'\n",
        "    else:\n",
        "        return 'Diğer'\n",
        "\n",
        "df['FloorCategory'] = df['FloorLocation'].apply(simplify_floor)\n",
        "\n",
        "# 5. Oda + Salon sayısını ayırma\n",
        "df[['Rooms', 'Halls']] = df['NumberOfRooms'].str.extract(r'(\\d+)\\+?(\\d*)')\n",
        "df['Rooms'] = df['Rooms'].astype(float)\n",
        "df['Halls'] = df['Halls'].replace('', 0).astype(float)\n",
        "\n",
        "# 6. Site içinde mi (binary)\n",
        "df['InsideSiteBinary'] = df['InsideTheSite'].map({'Evet': 1, 'Hayır': 0})\n"
      ],
      "metadata": {
        "id": "8xZcxz_fx5S_"
      },
      "execution_count": null,
      "outputs": []
    },
    {
      "cell_type": "markdown",
      "source": [
        "Yeni veriler oluşturduktan sonra tekrar etmemesi adına bazılarını silebiliriz"
      ],
      "metadata": {
        "id": "r474xg7LyWIT"
      }
    },
    {
      "cell_type": "code",
      "source": [
        "columns_to_drop = [\n",
        "    'GrossSquareMeters',       # yerine 'Efficiency'\n",
        "    'NetSquareMeters',         # yerine 'Efficiency', 'PricePerSquareMeter'\n",
        "    'FloorLocation',           # yerine 'FloorCategory'\n",
        "    'NumberOfRooms',           # yerine 'Rooms', 'Halls'\n",
        "    'InsideTheSite',           # yerine 'InsideSiteBinary'\n",
        "    'BuildingAge'              #yerine BuildingAgeGroup\n",
        "]\n",
        "df.drop(columns=columns_to_drop, axis=1, inplace=True)\n"
      ],
      "metadata": {
        "id": "dWSqPzrYycvJ"
      },
      "execution_count": null,
      "outputs": []
    },
    {
      "cell_type": "code",
      "source": [
        "df.head()"
      ],
      "metadata": {
        "colab": {
          "base_uri": "https://localhost:8080/",
          "height": 206
        },
        "id": "vDBFivwVyhdg",
        "outputId": "501063fe-1782-41de-d2a3-fa221f7b4873"
      },
      "execution_count": null,
      "outputs": [
        {
          "output_type": "execute_result",
          "data": {
            "text/plain": [
              "  district       price ItemStatus  TotalRooms  Efficiency  \\\n",
              "0   adalar   3100000.0     Eşyalı           4    0.750312   \n",
              "1   adalar   1600000.0     Eşyalı           3    0.833611   \n",
              "2   adalar  18500000.0        Boş           4    0.857224   \n",
              "3   adalar   9500000.0        Boş           8    0.981825   \n",
              "4   adalar  25000000.0        Boş           8    0.833373   \n",
              "\n",
              "   PricePerSquareMeter BuildingAgeGroup FloorCategory  Rooms  Halls  \\\n",
              "0          2579.034942              21+          Çatı    3.0    1.0   \n",
              "1          1596.806387             6-10         Zemin    2.0    1.0   \n",
              "2          6162.558294              21+         Giriş    3.0    1.0   \n",
              "3          1758.607923            11-20         Giriş    8.0    0.0   \n",
              "4          3570.408455              21+         Giriş    8.0    0.0   \n",
              "\n",
              "   InsideSiteBinary  \n",
              "0                 0  \n",
              "1                 0  \n",
              "2                 0  \n",
              "3                 0  \n",
              "4                 0  "
            ],
            "text/html": [
              "\n",
              "  <div id=\"df-3e6ac7c9-fd1d-4efa-bfc0-5fc675f93e64\" class=\"colab-df-container\">\n",
              "    <div>\n",
              "<style scoped>\n",
              "    .dataframe tbody tr th:only-of-type {\n",
              "        vertical-align: middle;\n",
              "    }\n",
              "\n",
              "    .dataframe tbody tr th {\n",
              "        vertical-align: top;\n",
              "    }\n",
              "\n",
              "    .dataframe thead th {\n",
              "        text-align: right;\n",
              "    }\n",
              "</style>\n",
              "<table border=\"1\" class=\"dataframe\">\n",
              "  <thead>\n",
              "    <tr style=\"text-align: right;\">\n",
              "      <th></th>\n",
              "      <th>district</th>\n",
              "      <th>price</th>\n",
              "      <th>ItemStatus</th>\n",
              "      <th>TotalRooms</th>\n",
              "      <th>Efficiency</th>\n",
              "      <th>PricePerSquareMeter</th>\n",
              "      <th>BuildingAgeGroup</th>\n",
              "      <th>FloorCategory</th>\n",
              "      <th>Rooms</th>\n",
              "      <th>Halls</th>\n",
              "      <th>InsideSiteBinary</th>\n",
              "    </tr>\n",
              "  </thead>\n",
              "  <tbody>\n",
              "    <tr>\n",
              "      <th>0</th>\n",
              "      <td>adalar</td>\n",
              "      <td>3100000.0</td>\n",
              "      <td>Eşyalı</td>\n",
              "      <td>4</td>\n",
              "      <td>0.750312</td>\n",
              "      <td>2579.034942</td>\n",
              "      <td>21+</td>\n",
              "      <td>Çatı</td>\n",
              "      <td>3.0</td>\n",
              "      <td>1.0</td>\n",
              "      <td>0</td>\n",
              "    </tr>\n",
              "    <tr>\n",
              "      <th>1</th>\n",
              "      <td>adalar</td>\n",
              "      <td>1600000.0</td>\n",
              "      <td>Eşyalı</td>\n",
              "      <td>3</td>\n",
              "      <td>0.833611</td>\n",
              "      <td>1596.806387</td>\n",
              "      <td>6-10</td>\n",
              "      <td>Zemin</td>\n",
              "      <td>2.0</td>\n",
              "      <td>1.0</td>\n",
              "      <td>0</td>\n",
              "    </tr>\n",
              "    <tr>\n",
              "      <th>2</th>\n",
              "      <td>adalar</td>\n",
              "      <td>18500000.0</td>\n",
              "      <td>Boş</td>\n",
              "      <td>4</td>\n",
              "      <td>0.857224</td>\n",
              "      <td>6162.558294</td>\n",
              "      <td>21+</td>\n",
              "      <td>Giriş</td>\n",
              "      <td>3.0</td>\n",
              "      <td>1.0</td>\n",
              "      <td>0</td>\n",
              "    </tr>\n",
              "    <tr>\n",
              "      <th>3</th>\n",
              "      <td>adalar</td>\n",
              "      <td>9500000.0</td>\n",
              "      <td>Boş</td>\n",
              "      <td>8</td>\n",
              "      <td>0.981825</td>\n",
              "      <td>1758.607923</td>\n",
              "      <td>11-20</td>\n",
              "      <td>Giriş</td>\n",
              "      <td>8.0</td>\n",
              "      <td>0.0</td>\n",
              "      <td>0</td>\n",
              "    </tr>\n",
              "    <tr>\n",
              "      <th>4</th>\n",
              "      <td>adalar</td>\n",
              "      <td>25000000.0</td>\n",
              "      <td>Boş</td>\n",
              "      <td>8</td>\n",
              "      <td>0.833373</td>\n",
              "      <td>3570.408455</td>\n",
              "      <td>21+</td>\n",
              "      <td>Giriş</td>\n",
              "      <td>8.0</td>\n",
              "      <td>0.0</td>\n",
              "      <td>0</td>\n",
              "    </tr>\n",
              "  </tbody>\n",
              "</table>\n",
              "</div>\n",
              "    <div class=\"colab-df-buttons\">\n",
              "\n",
              "  <div class=\"colab-df-container\">\n",
              "    <button class=\"colab-df-convert\" onclick=\"convertToInteractive('df-3e6ac7c9-fd1d-4efa-bfc0-5fc675f93e64')\"\n",
              "            title=\"Convert this dataframe to an interactive table.\"\n",
              "            style=\"display:none;\">\n",
              "\n",
              "  <svg xmlns=\"http://www.w3.org/2000/svg\" height=\"24px\" viewBox=\"0 -960 960 960\">\n",
              "    <path d=\"M120-120v-720h720v720H120Zm60-500h600v-160H180v160Zm220 220h160v-160H400v160Zm0 220h160v-160H400v160ZM180-400h160v-160H180v160Zm440 0h160v-160H620v160ZM180-180h160v-160H180v160Zm440 0h160v-160H620v160Z\"/>\n",
              "  </svg>\n",
              "    </button>\n",
              "\n",
              "  <style>\n",
              "    .colab-df-container {\n",
              "      display:flex;\n",
              "      gap: 12px;\n",
              "    }\n",
              "\n",
              "    .colab-df-convert {\n",
              "      background-color: #E8F0FE;\n",
              "      border: none;\n",
              "      border-radius: 50%;\n",
              "      cursor: pointer;\n",
              "      display: none;\n",
              "      fill: #1967D2;\n",
              "      height: 32px;\n",
              "      padding: 0 0 0 0;\n",
              "      width: 32px;\n",
              "    }\n",
              "\n",
              "    .colab-df-convert:hover {\n",
              "      background-color: #E2EBFA;\n",
              "      box-shadow: 0px 1px 2px rgba(60, 64, 67, 0.3), 0px 1px 3px 1px rgba(60, 64, 67, 0.15);\n",
              "      fill: #174EA6;\n",
              "    }\n",
              "\n",
              "    .colab-df-buttons div {\n",
              "      margin-bottom: 4px;\n",
              "    }\n",
              "\n",
              "    [theme=dark] .colab-df-convert {\n",
              "      background-color: #3B4455;\n",
              "      fill: #D2E3FC;\n",
              "    }\n",
              "\n",
              "    [theme=dark] .colab-df-convert:hover {\n",
              "      background-color: #434B5C;\n",
              "      box-shadow: 0px 1px 3px 1px rgba(0, 0, 0, 0.15);\n",
              "      filter: drop-shadow(0px 1px 2px rgba(0, 0, 0, 0.3));\n",
              "      fill: #FFFFFF;\n",
              "    }\n",
              "  </style>\n",
              "\n",
              "    <script>\n",
              "      const buttonEl =\n",
              "        document.querySelector('#df-3e6ac7c9-fd1d-4efa-bfc0-5fc675f93e64 button.colab-df-convert');\n",
              "      buttonEl.style.display =\n",
              "        google.colab.kernel.accessAllowed ? 'block' : 'none';\n",
              "\n",
              "      async function convertToInteractive(key) {\n",
              "        const element = document.querySelector('#df-3e6ac7c9-fd1d-4efa-bfc0-5fc675f93e64');\n",
              "        const dataTable =\n",
              "          await google.colab.kernel.invokeFunction('convertToInteractive',\n",
              "                                                    [key], {});\n",
              "        if (!dataTable) return;\n",
              "\n",
              "        const docLinkHtml = 'Like what you see? Visit the ' +\n",
              "          '<a target=\"_blank\" href=https://colab.research.google.com/notebooks/data_table.ipynb>data table notebook</a>'\n",
              "          + ' to learn more about interactive tables.';\n",
              "        element.innerHTML = '';\n",
              "        dataTable['output_type'] = 'display_data';\n",
              "        await google.colab.output.renderOutput(dataTable, element);\n",
              "        const docLink = document.createElement('div');\n",
              "        docLink.innerHTML = docLinkHtml;\n",
              "        element.appendChild(docLink);\n",
              "      }\n",
              "    </script>\n",
              "  </div>\n",
              "\n",
              "\n",
              "    <div id=\"df-50ad64a4-8b3c-41ad-b53e-074f3c12a2bf\">\n",
              "      <button class=\"colab-df-quickchart\" onclick=\"quickchart('df-50ad64a4-8b3c-41ad-b53e-074f3c12a2bf')\"\n",
              "                title=\"Suggest charts\"\n",
              "                style=\"display:none;\">\n",
              "\n",
              "<svg xmlns=\"http://www.w3.org/2000/svg\" height=\"24px\"viewBox=\"0 0 24 24\"\n",
              "     width=\"24px\">\n",
              "    <g>\n",
              "        <path d=\"M19 3H5c-1.1 0-2 .9-2 2v14c0 1.1.9 2 2 2h14c1.1 0 2-.9 2-2V5c0-1.1-.9-2-2-2zM9 17H7v-7h2v7zm4 0h-2V7h2v10zm4 0h-2v-4h2v4z\"/>\n",
              "    </g>\n",
              "</svg>\n",
              "      </button>\n",
              "\n",
              "<style>\n",
              "  .colab-df-quickchart {\n",
              "      --bg-color: #E8F0FE;\n",
              "      --fill-color: #1967D2;\n",
              "      --hover-bg-color: #E2EBFA;\n",
              "      --hover-fill-color: #174EA6;\n",
              "      --disabled-fill-color: #AAA;\n",
              "      --disabled-bg-color: #DDD;\n",
              "  }\n",
              "\n",
              "  [theme=dark] .colab-df-quickchart {\n",
              "      --bg-color: #3B4455;\n",
              "      --fill-color: #D2E3FC;\n",
              "      --hover-bg-color: #434B5C;\n",
              "      --hover-fill-color: #FFFFFF;\n",
              "      --disabled-bg-color: #3B4455;\n",
              "      --disabled-fill-color: #666;\n",
              "  }\n",
              "\n",
              "  .colab-df-quickchart {\n",
              "    background-color: var(--bg-color);\n",
              "    border: none;\n",
              "    border-radius: 50%;\n",
              "    cursor: pointer;\n",
              "    display: none;\n",
              "    fill: var(--fill-color);\n",
              "    height: 32px;\n",
              "    padding: 0;\n",
              "    width: 32px;\n",
              "  }\n",
              "\n",
              "  .colab-df-quickchart:hover {\n",
              "    background-color: var(--hover-bg-color);\n",
              "    box-shadow: 0 1px 2px rgba(60, 64, 67, 0.3), 0 1px 3px 1px rgba(60, 64, 67, 0.15);\n",
              "    fill: var(--button-hover-fill-color);\n",
              "  }\n",
              "\n",
              "  .colab-df-quickchart-complete:disabled,\n",
              "  .colab-df-quickchart-complete:disabled:hover {\n",
              "    background-color: var(--disabled-bg-color);\n",
              "    fill: var(--disabled-fill-color);\n",
              "    box-shadow: none;\n",
              "  }\n",
              "\n",
              "  .colab-df-spinner {\n",
              "    border: 2px solid var(--fill-color);\n",
              "    border-color: transparent;\n",
              "    border-bottom-color: var(--fill-color);\n",
              "    animation:\n",
              "      spin 1s steps(1) infinite;\n",
              "  }\n",
              "\n",
              "  @keyframes spin {\n",
              "    0% {\n",
              "      border-color: transparent;\n",
              "      border-bottom-color: var(--fill-color);\n",
              "      border-left-color: var(--fill-color);\n",
              "    }\n",
              "    20% {\n",
              "      border-color: transparent;\n",
              "      border-left-color: var(--fill-color);\n",
              "      border-top-color: var(--fill-color);\n",
              "    }\n",
              "    30% {\n",
              "      border-color: transparent;\n",
              "      border-left-color: var(--fill-color);\n",
              "      border-top-color: var(--fill-color);\n",
              "      border-right-color: var(--fill-color);\n",
              "    }\n",
              "    40% {\n",
              "      border-color: transparent;\n",
              "      border-right-color: var(--fill-color);\n",
              "      border-top-color: var(--fill-color);\n",
              "    }\n",
              "    60% {\n",
              "      border-color: transparent;\n",
              "      border-right-color: var(--fill-color);\n",
              "    }\n",
              "    80% {\n",
              "      border-color: transparent;\n",
              "      border-right-color: var(--fill-color);\n",
              "      border-bottom-color: var(--fill-color);\n",
              "    }\n",
              "    90% {\n",
              "      border-color: transparent;\n",
              "      border-bottom-color: var(--fill-color);\n",
              "    }\n",
              "  }\n",
              "</style>\n",
              "\n",
              "      <script>\n",
              "        async function quickchart(key) {\n",
              "          const quickchartButtonEl =\n",
              "            document.querySelector('#' + key + ' button');\n",
              "          quickchartButtonEl.disabled = true;  // To prevent multiple clicks.\n",
              "          quickchartButtonEl.classList.add('colab-df-spinner');\n",
              "          try {\n",
              "            const charts = await google.colab.kernel.invokeFunction(\n",
              "                'suggestCharts', [key], {});\n",
              "          } catch (error) {\n",
              "            console.error('Error during call to suggestCharts:', error);\n",
              "          }\n",
              "          quickchartButtonEl.classList.remove('colab-df-spinner');\n",
              "          quickchartButtonEl.classList.add('colab-df-quickchart-complete');\n",
              "        }\n",
              "        (() => {\n",
              "          let quickchartButtonEl =\n",
              "            document.querySelector('#df-50ad64a4-8b3c-41ad-b53e-074f3c12a2bf button');\n",
              "          quickchartButtonEl.style.display =\n",
              "            google.colab.kernel.accessAllowed ? 'block' : 'none';\n",
              "        })();\n",
              "      </script>\n",
              "    </div>\n",
              "\n",
              "    </div>\n",
              "  </div>\n"
            ],
            "application/vnd.google.colaboratory.intrinsic+json": {
              "type": "dataframe",
              "variable_name": "df",
              "summary": "{\n  \"name\": \"df\",\n  \"rows\": 25155,\n  \"fields\": [\n    {\n      \"column\": \"district\",\n      \"properties\": {\n        \"dtype\": \"category\",\n        \"num_unique_values\": 39,\n        \"samples\": [\n          \"sultanbeyli\",\n          \"umraniye\",\n          \"bagcilar\"\n        ],\n        \"semantic_type\": \"\",\n        \"description\": \"\"\n      }\n    },\n    {\n      \"column\": \"price\",\n      \"properties\": {\n        \"dtype\": \"number\",\n        \"std\": 291685637.6240043,\n        \"min\": 20000.0,\n        \"max\": 38500000016.0,\n        \"num_unique_values\": 2825,\n        \"samples\": [\n          44000000.0,\n          837500.0,\n          27250002.0\n        ],\n        \"semantic_type\": \"\",\n        \"description\": \"\"\n      }\n    },\n    {\n      \"column\": \"ItemStatus\",\n      \"properties\": {\n        \"dtype\": \"category\",\n        \"num_unique_values\": 2,\n        \"samples\": [\n          \"Bo\\u015f\",\n          \"E\\u015fyal\\u0131\"\n        ],\n        \"semantic_type\": \"\",\n        \"description\": \"\"\n      }\n    },\n    {\n      \"column\": \"TotalRooms\",\n      \"properties\": {\n        \"dtype\": \"number\",\n        \"std\": 1,\n        \"min\": 1,\n        \"max\": 10,\n        \"num_unique_values\": 10,\n        \"samples\": [\n          7,\n          3\n        ],\n        \"semantic_type\": \"\",\n        \"description\": \"\"\n      }\n    },\n    {\n      \"column\": \"Efficiency\",\n      \"properties\": {\n        \"dtype\": \"number\",\n        \"std\": 0.10278124235774518,\n        \"min\": 0.0011997600479904018,\n        \"max\": 0.999950000499995,\n        \"num_unique_values\": 3731,\n        \"samples\": [\n          0.824654622741764,\n          0.8281907433380085\n        ],\n        \"semantic_type\": \"\",\n        \"description\": \"\"\n      }\n    },\n    {\n      \"column\": \"PricePerSquareMeter\",\n      \"properties\": {\n        \"dtype\": \"number\",\n        \"std\": 123215.94213724029,\n        \"min\": 4.728451769791948,\n        \"max\": 15968063.87225549,\n        \"num_unique_values\": 12976,\n        \"samples\": [\n          465.23668639053255,\n          789.0365448504983\n        ],\n        \"semantic_type\": \"\",\n        \"description\": \"\"\n      }\n    },\n    {\n      \"column\": \"BuildingAgeGroup\",\n      \"properties\": {\n        \"dtype\": \"category\",\n        \"num_unique_values\": 4,\n        \"samples\": [\n          \"6-10\",\n          \"0-5\"\n        ],\n        \"semantic_type\": \"\",\n        \"description\": \"\"\n      }\n    },\n    {\n      \"column\": \"FloorCategory\",\n      \"properties\": {\n        \"dtype\": \"category\",\n        \"num_unique_values\": 5,\n        \"samples\": [\n          \"Zemin\",\n          \"Y\\u00fcksek\"\n        ],\n        \"semantic_type\": \"\",\n        \"description\": \"\"\n      }\n    },\n    {\n      \"column\": \"Rooms\",\n      \"properties\": {\n        \"dtype\": \"number\",\n        \"std\": 1.273156909500052,\n        \"min\": 1.0,\n        \"max\": 8.0,\n        \"num_unique_values\": 8,\n        \"samples\": [\n          2.0,\n          1.0\n        ],\n        \"semantic_type\": \"\",\n        \"description\": \"\"\n      }\n    },\n    {\n      \"column\": \"Halls\",\n      \"properties\": {\n        \"dtype\": \"number\",\n        \"std\": 0.3994164426867568,\n        \"min\": 0.0,\n        \"max\": 4.0,\n        \"num_unique_values\": 5,\n        \"samples\": [\n          0.0,\n          4.0\n        ],\n        \"semantic_type\": \"\",\n        \"description\": \"\"\n      }\n    },\n    {\n      \"column\": \"InsideSiteBinary\",\n      \"properties\": {\n        \"dtype\": \"number\",\n        \"std\": 0,\n        \"min\": 0,\n        \"max\": 1,\n        \"num_unique_values\": 2,\n        \"samples\": [\n          1,\n          0\n        ],\n        \"semantic_type\": \"\",\n        \"description\": \"\"\n      }\n    }\n  ]\n}"
            }
          },
          "metadata": {},
          "execution_count": 223
        }
      ]
    },
    {
      "cell_type": "markdown",
      "source": [
        "Encoding"
      ],
      "metadata": {
        "id": "_SIxbfhizLad"
      }
    },
    {
      "cell_type": "code",
      "source": [
        "from sklearn.preprocessing import LabelEncoder\n",
        "\n",
        "le = LabelEncoder()\n",
        "df['BuildingAgeGroup'] = le.fit_transform(df['BuildingAgeGroup'].astype(str))\n",
        "\n",
        "# ItemStatus için önce sütundaki benzersiz değerleri görelim\n",
        "print(df['ItemStatus'].unique())\n",
        "\n",
        "# 'Eşyalı' ise 1, diğer durumlar (örneğin 'Boş' veya farklısa) 0\n",
        "df['ItemStatus_encoded'] = df['ItemStatus'].apply(lambda x: 1 if 'Eşyalı' in str(x) else 0)\n",
        "\n",
        "df.drop('ItemStatus', axis=1, inplace=True)\n",
        "\n",
        "print(df['FloorCategory'].unique())\n",
        "\n",
        "le_floor = LabelEncoder()\n",
        "df['FloorCategory_encoded'] = le_floor.fit_transform(df['FloorCategory'].astype(str))\n",
        "\n",
        "df.drop('FloorCategory', axis=1, inplace=True)\n",
        "\n",
        "df = pd.get_dummies(df, columns=['district'], drop_first=True)\n",
        "\n"
      ],
      "metadata": {
        "colab": {
          "base_uri": "https://localhost:8080/"
        },
        "id": "0evw2dKpzM1Z",
        "outputId": "8b1b5773-60b8-48ec-dabf-169f8dc75f78"
      },
      "execution_count": null,
      "outputs": [
        {
          "output_type": "stream",
          "name": "stdout",
          "text": [
            "['Eşyalı' 'Boş']\n",
            "['Çatı' 'Zemin' 'Giriş' 'Diğer' 'Yüksek']\n"
          ]
        }
      ]
    },
    {
      "cell_type": "code",
      "source": [
        "df.head()"
      ],
      "metadata": {
        "colab": {
          "base_uri": "https://localhost:8080/",
          "height": 256
        },
        "id": "4isH21BvzR7y",
        "outputId": "cd6ff492-d837-44df-ae9b-4f2c90cd366a"
      },
      "execution_count": null,
      "outputs": [
        {
          "output_type": "execute_result",
          "data": {
            "text/plain": [
              "        price  TotalRooms  Efficiency  PricePerSquareMeter  BuildingAgeGroup  \\\n",
              "0   3100000.0           4    0.750312          2579.034942                 2   \n",
              "1   1600000.0           3    0.833611          1596.806387                 3   \n",
              "2  18500000.0           4    0.857224          6162.558294                 2   \n",
              "3   9500000.0           8    0.981825          1758.607923                 1   \n",
              "4  25000000.0           8    0.833373          3570.408455                 2   \n",
              "\n",
              "   Rooms  Halls  InsideSiteBinary  ItemStatus_encoded  FloorCategory_encoded  \\\n",
              "0    3.0    1.0                 0                   1                      4   \n",
              "1    2.0    1.0                 0                   1                      3   \n",
              "2    3.0    1.0                 0                   0                      1   \n",
              "3    8.0    0.0                 0                   0                      1   \n",
              "4    8.0    0.0                 0                   0                      1   \n",
              "\n",
              "   ...  district_sariyer  district_sile  district_silivri  district_sisli  \\\n",
              "0  ...             False          False             False           False   \n",
              "1  ...             False          False             False           False   \n",
              "2  ...             False          False             False           False   \n",
              "3  ...             False          False             False           False   \n",
              "4  ...             False          False             False           False   \n",
              "\n",
              "   district_sultanbeyli  district_sultangazi  district_tuzla  \\\n",
              "0                 False                False           False   \n",
              "1                 False                False           False   \n",
              "2                 False                False           False   \n",
              "3                 False                False           False   \n",
              "4                 False                False           False   \n",
              "\n",
              "   district_umraniye  district_uskudar  district_zeytinburnu  \n",
              "0              False             False                 False  \n",
              "1              False             False                 False  \n",
              "2              False             False                 False  \n",
              "3              False             False                 False  \n",
              "4              False             False                 False  \n",
              "\n",
              "[5 rows x 48 columns]"
            ],
            "text/html": [
              "\n",
              "  <div id=\"df-ced0a7cf-339c-4e38-91b3-a40bb52e0d86\" class=\"colab-df-container\">\n",
              "    <div>\n",
              "<style scoped>\n",
              "    .dataframe tbody tr th:only-of-type {\n",
              "        vertical-align: middle;\n",
              "    }\n",
              "\n",
              "    .dataframe tbody tr th {\n",
              "        vertical-align: top;\n",
              "    }\n",
              "\n",
              "    .dataframe thead th {\n",
              "        text-align: right;\n",
              "    }\n",
              "</style>\n",
              "<table border=\"1\" class=\"dataframe\">\n",
              "  <thead>\n",
              "    <tr style=\"text-align: right;\">\n",
              "      <th></th>\n",
              "      <th>price</th>\n",
              "      <th>TotalRooms</th>\n",
              "      <th>Efficiency</th>\n",
              "      <th>PricePerSquareMeter</th>\n",
              "      <th>BuildingAgeGroup</th>\n",
              "      <th>Rooms</th>\n",
              "      <th>Halls</th>\n",
              "      <th>InsideSiteBinary</th>\n",
              "      <th>ItemStatus_encoded</th>\n",
              "      <th>FloorCategory_encoded</th>\n",
              "      <th>...</th>\n",
              "      <th>district_sariyer</th>\n",
              "      <th>district_sile</th>\n",
              "      <th>district_silivri</th>\n",
              "      <th>district_sisli</th>\n",
              "      <th>district_sultanbeyli</th>\n",
              "      <th>district_sultangazi</th>\n",
              "      <th>district_tuzla</th>\n",
              "      <th>district_umraniye</th>\n",
              "      <th>district_uskudar</th>\n",
              "      <th>district_zeytinburnu</th>\n",
              "    </tr>\n",
              "  </thead>\n",
              "  <tbody>\n",
              "    <tr>\n",
              "      <th>0</th>\n",
              "      <td>3100000.0</td>\n",
              "      <td>4</td>\n",
              "      <td>0.750312</td>\n",
              "      <td>2579.034942</td>\n",
              "      <td>2</td>\n",
              "      <td>3.0</td>\n",
              "      <td>1.0</td>\n",
              "      <td>0</td>\n",
              "      <td>1</td>\n",
              "      <td>4</td>\n",
              "      <td>...</td>\n",
              "      <td>False</td>\n",
              "      <td>False</td>\n",
              "      <td>False</td>\n",
              "      <td>False</td>\n",
              "      <td>False</td>\n",
              "      <td>False</td>\n",
              "      <td>False</td>\n",
              "      <td>False</td>\n",
              "      <td>False</td>\n",
              "      <td>False</td>\n",
              "    </tr>\n",
              "    <tr>\n",
              "      <th>1</th>\n",
              "      <td>1600000.0</td>\n",
              "      <td>3</td>\n",
              "      <td>0.833611</td>\n",
              "      <td>1596.806387</td>\n",
              "      <td>3</td>\n",
              "      <td>2.0</td>\n",
              "      <td>1.0</td>\n",
              "      <td>0</td>\n",
              "      <td>1</td>\n",
              "      <td>3</td>\n",
              "      <td>...</td>\n",
              "      <td>False</td>\n",
              "      <td>False</td>\n",
              "      <td>False</td>\n",
              "      <td>False</td>\n",
              "      <td>False</td>\n",
              "      <td>False</td>\n",
              "      <td>False</td>\n",
              "      <td>False</td>\n",
              "      <td>False</td>\n",
              "      <td>False</td>\n",
              "    </tr>\n",
              "    <tr>\n",
              "      <th>2</th>\n",
              "      <td>18500000.0</td>\n",
              "      <td>4</td>\n",
              "      <td>0.857224</td>\n",
              "      <td>6162.558294</td>\n",
              "      <td>2</td>\n",
              "      <td>3.0</td>\n",
              "      <td>1.0</td>\n",
              "      <td>0</td>\n",
              "      <td>0</td>\n",
              "      <td>1</td>\n",
              "      <td>...</td>\n",
              "      <td>False</td>\n",
              "      <td>False</td>\n",
              "      <td>False</td>\n",
              "      <td>False</td>\n",
              "      <td>False</td>\n",
              "      <td>False</td>\n",
              "      <td>False</td>\n",
              "      <td>False</td>\n",
              "      <td>False</td>\n",
              "      <td>False</td>\n",
              "    </tr>\n",
              "    <tr>\n",
              "      <th>3</th>\n",
              "      <td>9500000.0</td>\n",
              "      <td>8</td>\n",
              "      <td>0.981825</td>\n",
              "      <td>1758.607923</td>\n",
              "      <td>1</td>\n",
              "      <td>8.0</td>\n",
              "      <td>0.0</td>\n",
              "      <td>0</td>\n",
              "      <td>0</td>\n",
              "      <td>1</td>\n",
              "      <td>...</td>\n",
              "      <td>False</td>\n",
              "      <td>False</td>\n",
              "      <td>False</td>\n",
              "      <td>False</td>\n",
              "      <td>False</td>\n",
              "      <td>False</td>\n",
              "      <td>False</td>\n",
              "      <td>False</td>\n",
              "      <td>False</td>\n",
              "      <td>False</td>\n",
              "    </tr>\n",
              "    <tr>\n",
              "      <th>4</th>\n",
              "      <td>25000000.0</td>\n",
              "      <td>8</td>\n",
              "      <td>0.833373</td>\n",
              "      <td>3570.408455</td>\n",
              "      <td>2</td>\n",
              "      <td>8.0</td>\n",
              "      <td>0.0</td>\n",
              "      <td>0</td>\n",
              "      <td>0</td>\n",
              "      <td>1</td>\n",
              "      <td>...</td>\n",
              "      <td>False</td>\n",
              "      <td>False</td>\n",
              "      <td>False</td>\n",
              "      <td>False</td>\n",
              "      <td>False</td>\n",
              "      <td>False</td>\n",
              "      <td>False</td>\n",
              "      <td>False</td>\n",
              "      <td>False</td>\n",
              "      <td>False</td>\n",
              "    </tr>\n",
              "  </tbody>\n",
              "</table>\n",
              "<p>5 rows × 48 columns</p>\n",
              "</div>\n",
              "    <div class=\"colab-df-buttons\">\n",
              "\n",
              "  <div class=\"colab-df-container\">\n",
              "    <button class=\"colab-df-convert\" onclick=\"convertToInteractive('df-ced0a7cf-339c-4e38-91b3-a40bb52e0d86')\"\n",
              "            title=\"Convert this dataframe to an interactive table.\"\n",
              "            style=\"display:none;\">\n",
              "\n",
              "  <svg xmlns=\"http://www.w3.org/2000/svg\" height=\"24px\" viewBox=\"0 -960 960 960\">\n",
              "    <path d=\"M120-120v-720h720v720H120Zm60-500h600v-160H180v160Zm220 220h160v-160H400v160Zm0 220h160v-160H400v160ZM180-400h160v-160H180v160Zm440 0h160v-160H620v160ZM180-180h160v-160H180v160Zm440 0h160v-160H620v160Z\"/>\n",
              "  </svg>\n",
              "    </button>\n",
              "\n",
              "  <style>\n",
              "    .colab-df-container {\n",
              "      display:flex;\n",
              "      gap: 12px;\n",
              "    }\n",
              "\n",
              "    .colab-df-convert {\n",
              "      background-color: #E8F0FE;\n",
              "      border: none;\n",
              "      border-radius: 50%;\n",
              "      cursor: pointer;\n",
              "      display: none;\n",
              "      fill: #1967D2;\n",
              "      height: 32px;\n",
              "      padding: 0 0 0 0;\n",
              "      width: 32px;\n",
              "    }\n",
              "\n",
              "    .colab-df-convert:hover {\n",
              "      background-color: #E2EBFA;\n",
              "      box-shadow: 0px 1px 2px rgba(60, 64, 67, 0.3), 0px 1px 3px 1px rgba(60, 64, 67, 0.15);\n",
              "      fill: #174EA6;\n",
              "    }\n",
              "\n",
              "    .colab-df-buttons div {\n",
              "      margin-bottom: 4px;\n",
              "    }\n",
              "\n",
              "    [theme=dark] .colab-df-convert {\n",
              "      background-color: #3B4455;\n",
              "      fill: #D2E3FC;\n",
              "    }\n",
              "\n",
              "    [theme=dark] .colab-df-convert:hover {\n",
              "      background-color: #434B5C;\n",
              "      box-shadow: 0px 1px 3px 1px rgba(0, 0, 0, 0.15);\n",
              "      filter: drop-shadow(0px 1px 2px rgba(0, 0, 0, 0.3));\n",
              "      fill: #FFFFFF;\n",
              "    }\n",
              "  </style>\n",
              "\n",
              "    <script>\n",
              "      const buttonEl =\n",
              "        document.querySelector('#df-ced0a7cf-339c-4e38-91b3-a40bb52e0d86 button.colab-df-convert');\n",
              "      buttonEl.style.display =\n",
              "        google.colab.kernel.accessAllowed ? 'block' : 'none';\n",
              "\n",
              "      async function convertToInteractive(key) {\n",
              "        const element = document.querySelector('#df-ced0a7cf-339c-4e38-91b3-a40bb52e0d86');\n",
              "        const dataTable =\n",
              "          await google.colab.kernel.invokeFunction('convertToInteractive',\n",
              "                                                    [key], {});\n",
              "        if (!dataTable) return;\n",
              "\n",
              "        const docLinkHtml = 'Like what you see? Visit the ' +\n",
              "          '<a target=\"_blank\" href=https://colab.research.google.com/notebooks/data_table.ipynb>data table notebook</a>'\n",
              "          + ' to learn more about interactive tables.';\n",
              "        element.innerHTML = '';\n",
              "        dataTable['output_type'] = 'display_data';\n",
              "        await google.colab.output.renderOutput(dataTable, element);\n",
              "        const docLink = document.createElement('div');\n",
              "        docLink.innerHTML = docLinkHtml;\n",
              "        element.appendChild(docLink);\n",
              "      }\n",
              "    </script>\n",
              "  </div>\n",
              "\n",
              "\n",
              "    <div id=\"df-0020713e-3827-494a-8232-f2d84c316b24\">\n",
              "      <button class=\"colab-df-quickchart\" onclick=\"quickchart('df-0020713e-3827-494a-8232-f2d84c316b24')\"\n",
              "                title=\"Suggest charts\"\n",
              "                style=\"display:none;\">\n",
              "\n",
              "<svg xmlns=\"http://www.w3.org/2000/svg\" height=\"24px\"viewBox=\"0 0 24 24\"\n",
              "     width=\"24px\">\n",
              "    <g>\n",
              "        <path d=\"M19 3H5c-1.1 0-2 .9-2 2v14c0 1.1.9 2 2 2h14c1.1 0 2-.9 2-2V5c0-1.1-.9-2-2-2zM9 17H7v-7h2v7zm4 0h-2V7h2v10zm4 0h-2v-4h2v4z\"/>\n",
              "    </g>\n",
              "</svg>\n",
              "      </button>\n",
              "\n",
              "<style>\n",
              "  .colab-df-quickchart {\n",
              "      --bg-color: #E8F0FE;\n",
              "      --fill-color: #1967D2;\n",
              "      --hover-bg-color: #E2EBFA;\n",
              "      --hover-fill-color: #174EA6;\n",
              "      --disabled-fill-color: #AAA;\n",
              "      --disabled-bg-color: #DDD;\n",
              "  }\n",
              "\n",
              "  [theme=dark] .colab-df-quickchart {\n",
              "      --bg-color: #3B4455;\n",
              "      --fill-color: #D2E3FC;\n",
              "      --hover-bg-color: #434B5C;\n",
              "      --hover-fill-color: #FFFFFF;\n",
              "      --disabled-bg-color: #3B4455;\n",
              "      --disabled-fill-color: #666;\n",
              "  }\n",
              "\n",
              "  .colab-df-quickchart {\n",
              "    background-color: var(--bg-color);\n",
              "    border: none;\n",
              "    border-radius: 50%;\n",
              "    cursor: pointer;\n",
              "    display: none;\n",
              "    fill: var(--fill-color);\n",
              "    height: 32px;\n",
              "    padding: 0;\n",
              "    width: 32px;\n",
              "  }\n",
              "\n",
              "  .colab-df-quickchart:hover {\n",
              "    background-color: var(--hover-bg-color);\n",
              "    box-shadow: 0 1px 2px rgba(60, 64, 67, 0.3), 0 1px 3px 1px rgba(60, 64, 67, 0.15);\n",
              "    fill: var(--button-hover-fill-color);\n",
              "  }\n",
              "\n",
              "  .colab-df-quickchart-complete:disabled,\n",
              "  .colab-df-quickchart-complete:disabled:hover {\n",
              "    background-color: var(--disabled-bg-color);\n",
              "    fill: var(--disabled-fill-color);\n",
              "    box-shadow: none;\n",
              "  }\n",
              "\n",
              "  .colab-df-spinner {\n",
              "    border: 2px solid var(--fill-color);\n",
              "    border-color: transparent;\n",
              "    border-bottom-color: var(--fill-color);\n",
              "    animation:\n",
              "      spin 1s steps(1) infinite;\n",
              "  }\n",
              "\n",
              "  @keyframes spin {\n",
              "    0% {\n",
              "      border-color: transparent;\n",
              "      border-bottom-color: var(--fill-color);\n",
              "      border-left-color: var(--fill-color);\n",
              "    }\n",
              "    20% {\n",
              "      border-color: transparent;\n",
              "      border-left-color: var(--fill-color);\n",
              "      border-top-color: var(--fill-color);\n",
              "    }\n",
              "    30% {\n",
              "      border-color: transparent;\n",
              "      border-left-color: var(--fill-color);\n",
              "      border-top-color: var(--fill-color);\n",
              "      border-right-color: var(--fill-color);\n",
              "    }\n",
              "    40% {\n",
              "      border-color: transparent;\n",
              "      border-right-color: var(--fill-color);\n",
              "      border-top-color: var(--fill-color);\n",
              "    }\n",
              "    60% {\n",
              "      border-color: transparent;\n",
              "      border-right-color: var(--fill-color);\n",
              "    }\n",
              "    80% {\n",
              "      border-color: transparent;\n",
              "      border-right-color: var(--fill-color);\n",
              "      border-bottom-color: var(--fill-color);\n",
              "    }\n",
              "    90% {\n",
              "      border-color: transparent;\n",
              "      border-bottom-color: var(--fill-color);\n",
              "    }\n",
              "  }\n",
              "</style>\n",
              "\n",
              "      <script>\n",
              "        async function quickchart(key) {\n",
              "          const quickchartButtonEl =\n",
              "            document.querySelector('#' + key + ' button');\n",
              "          quickchartButtonEl.disabled = true;  // To prevent multiple clicks.\n",
              "          quickchartButtonEl.classList.add('colab-df-spinner');\n",
              "          try {\n",
              "            const charts = await google.colab.kernel.invokeFunction(\n",
              "                'suggestCharts', [key], {});\n",
              "          } catch (error) {\n",
              "            console.error('Error during call to suggestCharts:', error);\n",
              "          }\n",
              "          quickchartButtonEl.classList.remove('colab-df-spinner');\n",
              "          quickchartButtonEl.classList.add('colab-df-quickchart-complete');\n",
              "        }\n",
              "        (() => {\n",
              "          let quickchartButtonEl =\n",
              "            document.querySelector('#df-0020713e-3827-494a-8232-f2d84c316b24 button');\n",
              "          quickchartButtonEl.style.display =\n",
              "            google.colab.kernel.accessAllowed ? 'block' : 'none';\n",
              "        })();\n",
              "      </script>\n",
              "    </div>\n",
              "\n",
              "    </div>\n",
              "  </div>\n"
            ],
            "application/vnd.google.colaboratory.intrinsic+json": {
              "type": "dataframe",
              "variable_name": "df"
            }
          },
          "metadata": {},
          "execution_count": 225
        }
      ]
    },
    {
      "cell_type": "code",
      "source": [
        "df.to_csv('processed_data.csv', index=False, encoding='utf-8-sig')\n"
      ],
      "metadata": {
        "id": "WpnPcbiL3teP"
      },
      "execution_count": null,
      "outputs": []
    },
    {
      "cell_type": "markdown",
      "source": [
        "Aykırı değerleri kontrol edip sınıra çekiyoruz"
      ],
      "metadata": {
        "id": "_2wo2AL230um"
      }
    },
    {
      "cell_type": "code",
      "source": [
        "df=pd.read_csv('/content/processed_data.csv')\n",
        "\n",
        "import seaborn as sns\n",
        "import matplotlib.pyplot as plt\n",
        "\n",
        "numeric_columns = df.select_dtypes(include=['float64', 'int64']).columns\n",
        "\n",
        "for col in numeric_columns:\n",
        "    print(f\"\\n--- {col} Sütunu ---\")\n",
        "\n",
        "    # Boxplot ile aykırı değerleri görselleştir\n",
        "    plt.boxplot(df[col], vert=False, patch_artist=True)\n",
        "    plt.title(f\"Boxplot of {col}\")\n",
        "    plt.xlabel(col)\n",
        "    plt.show()\n",
        "\n",
        "    # IQR yöntemi ile aykırı değer analizi\n",
        "    Q1 = df[col].quantile(0.25)\n",
        "    Q3 = df[col].quantile(0.75)\n",
        "    IQR = Q3 - Q1\n",
        "    lower_bound = Q1 - 1.5 * IQR\n",
        "    upper_bound = Q3 + 1.5 * IQR\n",
        "    print(f\"IQR: {IQR}, Lower Bound: {lower_bound}, Upper Bound: {upper_bound}\")\n",
        "\n",
        "    outliers = df[(df[col] < lower_bound) | (df[col] > upper_bound)]\n",
        "    print(f\"Aykırı Değer Sayısı: {len(outliers)}\")\n",
        "\n",
        "    # Aykırı değerleri sınıra çek\n",
        "    df[col] = df[col].apply(\n",
        "        lambda x: lower_bound if x < lower_bound else upper_bound if x > upper_bound else x\n",
        "    )\n",
        "\n",
        "    # Sınıra çekilmiş veriyi tekrar görselleştir\n",
        "    plt.boxplot(df[col].dropna(), vert=False, patch_artist=True)\n",
        "    plt.title(f\"Boxplot of {col} (Sınıra Çekilmiş)\")\n",
        "    plt.xlabel(col)\n",
        "    plt.show()"
      ],
      "metadata": {
        "colab": {
          "base_uri": "https://localhost:8080/",
          "height": 1000
        },
        "id": "C-fJccmy3zHR",
        "outputId": "f7caf78c-09b2-4ca2-de84-f953440e671d"
      },
      "execution_count": null,
      "outputs": [
        {
          "output_type": "stream",
          "name": "stdout",
          "text": [
            "\n",
            "--- price Sütunu ---\n"
          ]
        },
        {
          "output_type": "display_data",
          "data": {
            "text/plain": [
              "<Figure size 640x480 with 1 Axes>"
            ],
            "image/png": "[encoded data removed]"
          },
          "metadata": {}
        },
        {
          "output_type": "stream",
          "name": "stdout",
          "text": [
            "IQR: 2700000.0, Lower Bound: -3250000.0, Upper Bound: 7550000.0\n",
            "Aykırı Değer Sayısı: 3032\n"
          ]
        },
        {
          "output_type": "display_data",
          "data": {
            "text/plain": [
              "<Figure size 640x480 with 1 Axes>"
            ],
            "image/png": "[encoded data removed]"
          },
          "metadata": {}
        },
        {
          "output_type": "stream",
          "name": "stdout",
          "text": [
            "\n",
            "--- TotalRooms Sütunu ---\n"
          ]
        },
        {
          "output_type": "display_data",
          "data": {
            "text/plain": [
              "<Figure size 640x480 with 1 Axes>"
            ],
            "image/png": "[encoded data removed]"
          },
          "metadata": {}
        },
        {
          "output_type": "stream",
          "name": "stdout",
          "text": [
            "IQR: 1.0, Lower Bound: 1.5, Upper Bound: 5.5\n",
            "Aykırı Değer Sayısı: 3709\n"
          ]
        },
        {
          "output_type": "display_data",
          "data": {
            "text/plain": [
              "<Figure size 640x480 with 1 Axes>"
            ],
            "image/png": "[encoded data removed]"
          },
          "metadata": {}
        },
        {
          "output_type": "stream",
          "name": "stdout",
          "text": [
            "\n",
            "--- Efficiency Sütunu ---\n"
          ]
        },
        {
          "output_type": "display_data",
          "data": {
            "text/plain": [
              "<Figure size 640x480 with 1 Axes>"
            ],
            "image/png": "[encoded data removed]"
          },
          "metadata": {}
        },
        {
          "output_type": "stream",
          "name": "stdout",
          "text": [
            "IQR: 0.1050390381307067, Lower Bound: 0.6575302002003897, Upper Bound: 1.0776863527232163\n",
            "Aykırı Değer Sayısı: 800\n"
          ]
        },
        {
          "output_type": "display_data",
          "data": {
            "text/plain": [
              "<Figure size 640x480 with 1 Axes>"
            ],
            "image/png": "[encoded data removed]"
          },
          "metadata": {}
        },
        {
          "output_type": "stream",
          "name": "stdout",
          "text": [
            "\n",
            "--- PricePerSquareMeter Sütunu ---\n"
          ]
        },
        {
          "output_type": "display_data",
          "data": {
            "text/plain": [
              "<Figure size 640x480 with 1 Axes>"
            ],
            "image/png": "[encoded data removed]"
          },
          "metadata": {}
        },
        {
          "output_type": "stream",
          "name": "stdout",
          "text": [
            "IQR: 2126.6497959322787, Lower Bound: -2382.3521893612133, Upper Bound: 6124.246994367902\n",
            "Aykırı Değer Sayısı: 2500\n"
          ]
        },
        {
          "output_type": "display_data",
          "data": {
            "text/plain": [
              "<Figure size 640x480 with 1 Axes>"
            ],
            "image/png": "[encoded data removed]"
          },
          "metadata": {}
        },
        {
          "output_type": "stream",
          "name": "stdout",
          "text": [
            "\n",
            "--- BuildingAgeGroup Sütunu ---\n"
          ]
        },
        {
          "output_type": "display_data",
          "data": {
            "text/plain": [
              "<Figure size 640x480 with 1 Axes>"
            ],
            "image/png": "[encoded data removed]"
          },
          "metadata": {}
        },
        {
          "output_type": "stream",
          "name": "stdout",
          "text": [
            "IQR: 2.0, Lower Bound: -2.0, Upper Bound: 6.0\n",
            "Aykırı Değer Sayısı: 0\n"
          ]
        },
        {
          "output_type": "display_data",
          "data": {
            "text/plain": [
              "<Figure size 640x480 with 1 Axes>"
            ],
            "image/png": "[encoded data removed]"
          },
          "metadata": {}
        },
        {
          "output_type": "stream",
          "name": "stdout",
          "text": [
            "\n",
            "--- Rooms Sütunu ---\n"
          ]
        },
        {
          "output_type": "display_data",
          "data": {
            "text/plain": [
              "<Figure size 640x480 with 1 Axes>"
            ],
            "image/png": "[encoded data removed]"
          },
          "metadata": {}
        },
        {
          "output_type": "stream",
          "name": "stdout",
          "text": [
            "IQR: 1.0, Lower Bound: 0.5, Upper Bound: 4.5\n",
            "Aykırı Değer Sayısı: 2183\n"
          ]
        },
        {
          "output_type": "display_data",
          "data": {
            "text/plain": [
              "<Figure size 640x480 with 1 Axes>"
            ],
            "image/png": "[encoded data removed]"
          },
          "metadata": {}
        },
        {
          "output_type": "stream",
          "name": "stdout",
          "text": [
            "\n",
            "--- Halls Sütunu ---\n"
          ]
        },
        {
          "output_type": "display_data",
          "data": {
            "text/plain": [
              "<Figure size 640x480 with 1 Axes>"
            ],
            "image/png": "[encoded data removed]"
          },
          "metadata": {}
        },
        {
          "output_type": "stream",
          "name": "stdout",
          "text": [
            "IQR: 0.0, Lower Bound: 1.0, Upper Bound: 1.0\n",
            "Aykırı Değer Sayısı: 3729\n"
          ]
        },
        {
          "output_type": "display_data",
          "data": {
            "text/plain": [
              "<Figure size 640x480 with 1 Axes>"
            ],
            "image/png": "[encoded data removed]"
          },
          "metadata": {}
        },
        {
          "output_type": "stream",
          "name": "stdout",
          "text": [
            "\n",
            "--- InsideSiteBinary Sütunu ---\n"
          ]
        },
        {
          "output_type": "display_data",
          "data": {
            "text/plain": [
              "<Figure size 640x480 with 1 Axes>"
            ],
            "image/png": "[encoded data removed]"
          },
          "metadata": {}
        },
        {
          "output_type": "stream",
          "name": "stdout",
          "text": [
            "IQR: 0.0, Lower Bound: 0.0, Upper Bound: 0.0\n",
            "Aykırı Değer Sayısı: 2227\n"
          ]
        },
        {
          "output_type": "display_data",
          "data": {
            "text/plain": [
              "<Figure size 640x480 with 1 Axes>"
            ],
            "image/png": "[encoded data removed]"
          },
          "metadata": {}
        },
        {
          "output_type": "stream",
          "name": "stdout",
          "text": [
            "\n",
            "--- ItemStatus_encoded Sütunu ---\n"
          ]
        },
        {
          "output_type": "display_data",
          "data": {
            "text/plain": [
              "<Figure size 640x480 with 1 Axes>"
            ],
            "image/png": "[encoded data removed]"
          },
          "metadata": {}
        },
        {
          "output_type": "stream",
          "name": "stdout",
          "text": [
            "IQR: 0.0, Lower Bound: 0.0, Upper Bound: 0.0\n",
            "Aykırı Değer Sayısı: 841\n"
          ]
        },
        {
          "output_type": "display_data",
          "data": {
            "text/plain": [
              "<Figure size 640x480 with 1 Axes>"
            ],
            "image/png": "[encoded data removed]"
          },
          "metadata": {}
        },
        {
          "output_type": "stream",
          "name": "stdout",
          "text": [
            "\n",
            "--- FloorCategory_encoded Sütunu ---\n"
          ]
        },
        {
          "output_type": "display_data",
          "data": {
            "text/plain": [
              "<Figure size 640x480 with 1 Axes>"
            ],
            "image/png": "[encoded data removed]"
          },
          "metadata": {}
        },
        {
          "output_type": "stream",
          "name": "stdout",
          "text": [
            "IQR: 1.0, Lower Bound: -1.5, Upper Bound: 2.5\n",
            "Aykırı Değer Sayısı: 3023\n"
          ]
        },
        {
          "output_type": "display_data",
          "data": {
            "text/plain": [
              "<Figure size 640x480 with 1 Axes>"
            ],
            "image/png": "[encoded data removed]"
          },
          "metadata": {}
        }
      ]
    },
    {
      "cell_type": "code",
      "source": [
        "from sklearn.model_selection import train_test_split\n",
        "from sklearn.tree import DecisionTreeRegressor\n",
        "from sklearn.metrics import mean_absolute_error, mean_squared_error, r2_score\n",
        "import numpy as np\n",
        "\n",
        "# Özellikler (X) ve hedef değişken (y) ayrımı\n",
        "X = df.drop(['price'], axis=1)\n",
        "y = df['price']\n",
        "\n",
        "# Veriyi eğitim ve test setlerine ayır\n",
        "X_train, X_test, y_train, y_test = train_test_split(\n",
        "    X, y, test_size=0.2, random_state=42\n",
        ")\n",
        "\n",
        "# Decision Tree Regressor modelini oluştur ve eğit\n",
        "dt_model = DecisionTreeRegressor(random_state=42)\n",
        "dt_model.fit(X_train, y_train)\n",
        "\n",
        "# Test verisi ile tahmin yap\n",
        "y_pred = dt_model.predict(X_test)\n",
        "\n",
        "# Performans metrikleri\n",
        "mae = mean_absolute_error(y_test, y_pred)\n",
        "mse = mean_squared_error(y_test, y_pred)\n",
        "rmse = np.sqrt(mse)  # squared=False yerine manuel hesaplama\n",
        "r2 = r2_score(y_test, y_pred)\n",
        "\n",
        "# Sonuçları yazdır\n",
        "print(f\"MAE: {mae:.2f}\")\n",
        "print(f\"MSE: {mse:.2f}\")\n",
        "print(f\"RMSE: {rmse:.2f}\")\n",
        "print(f\"R2 Score: {r2:.4f}\")\n"
      ],
      "metadata": {
        "colab": {
          "base_uri": "https://localhost:8080/"
        },
        "id": "YmRZhriW4ehw",
        "outputId": "45c8a335-d3a8-4289-faa6-0549cda3bc73"
      },
      "execution_count": null,
      "outputs": [
        {
          "output_type": "stream",
          "name": "stdout",
          "text": [
            "MAE: 314154.70\n",
            "MSE: 599265547491.25\n",
            "RMSE: 774122.44\n",
            "R2 Score: 0.8972\n"
          ]
        }
      ]
    },
    {
      "cell_type": "markdown",
      "source": [
        "R^2ye göre model başarılı ancak, RMSE çok yüksek fiyatı çok uçta olan ilanlar ve aykırı değerler olabilir."
      ],
      "metadata": {
        "id": "drjCWAv76EYy"
      }
    },
    {
      "cell_type": "code",
      "source": [
        "from sklearn.model_selection import GridSearchCV\n",
        "from sklearn.tree import DecisionTreeRegressor\n",
        "from sklearn.metrics import mean_squared_error, r2_score\n",
        "import numpy as np\n",
        "\n",
        "# Hedef ve özellikler\n",
        "X = df.drop('price', axis=1)\n",
        "y = df['price']\n",
        "\n",
        "# Eğitim/test bölünmesi\n",
        "from sklearn.model_selection import train_test_split\n",
        "X_train, X_test, y_train, y_test = train_test_split(\n",
        "    X, y, test_size=0.2, random_state=42\n",
        ")\n",
        "\n",
        "# Model ve hiperparametre aralığı\n",
        "dt = DecisionTreeRegressor(random_state=42)\n",
        "\n",
        "param_grid = {\n",
        "    'max_depth': [5, 10, 15, 20, 30, None],\n",
        "    'min_samples_split': [2, 5, 10, 20],\n",
        "    'min_samples_leaf': [1, 2, 4, 10]\n",
        "}\n",
        "\n",
        "grid_search = GridSearchCV(\n",
        "    estimator=dt,\n",
        "    param_grid=param_grid,\n",
        "    cv=5,\n",
        "    scoring='neg_mean_squared_error',\n",
        "    n_jobs=-1,\n",
        "    verbose=1\n",
        ")\n",
        "\n",
        "grid_search.fit(X_train, y_train)\n",
        "best_model = grid_search.best_estimator_\n",
        "\n",
        "# Tahmin ve metrikler\n",
        "y_pred = best_model.predict(X_test)\n",
        "\n",
        "mse = mean_squared_error(y_test, y_pred)\n",
        "rmse = np.sqrt(mse)\n",
        "r2 = r2_score(y_test, y_pred)\n",
        "\n",
        "print(\"🔍 En iyi hiperparametreler:\", grid_search.best_params_)\n",
        "print(f\"📉 Yeni MSE: {mse:.2f}\")\n",
        "print(f\"📉 Yeni RMSE: {rmse:.2f}\")\n",
        "print(f\"📈 Yeni R² Score: {r2:.4f}\")\n"
      ],
      "metadata": {
        "colab": {
          "base_uri": "https://localhost:8080/"
        },
        "id": "gpOWkqw46OmB",
        "outputId": "f6130529-3847-4d6e-d4a1-306b6261290b"
      },
      "execution_count": null,
      "outputs": [
        {
          "output_type": "stream",
          "name": "stdout",
          "text": [
            "Fitting 5 folds for each of 96 candidates, totalling 480 fits\n",
            "🔍 En iyi hiperparametreler: {'max_depth': 10, 'min_samples_leaf': 4, 'min_samples_split': 20}\n",
            "📉 Yeni MSE: 440043467417.99\n",
            "📉 Yeni RMSE: 663357.72\n",
            "📈 Yeni R² Score: 0.9245\n"
          ]
        }
      ]
    },
    {
      "cell_type": "markdown",
      "source": [
        "R^2 kare daha yüksek ve RMSE daha düşük model daha başarılı"
      ],
      "metadata": {
        "id": "MoAVo0EI61GI"
      }
    },
    {
      "cell_type": "code",
      "source": [
        "from sklearn.model_selection import train_test_split, RandomizedSearchCV\n",
        "from sklearn.tree import DecisionTreeRegressor\n",
        "from sklearn.metrics import mean_squared_error, r2_score\n",
        "from scipy.stats import randint\n",
        "import numpy as np\n",
        "\n",
        "# 1. Veri setini ayır\n",
        "X = df.drop(['price'], axis=1)\n",
        "y = df['price']\n",
        "X_train, X_test, y_train, y_test = train_test_split(X, y, test_size=0.2, random_state=42)\n",
        "\n",
        "# 2. Model\n",
        "dt = DecisionTreeRegressor(random_state=42)\n",
        "\n",
        "# 3. Hiperparametre alanları\n",
        "param_dist = {\n",
        "    \"max_depth\": randint(3, 30),\n",
        "    \"min_samples_split\": randint(2, 30),\n",
        "    \"min_samples_leaf\": randint(1, 30)\n",
        "}\n",
        "\n",
        "# 4. RandomizedSearchCV\n",
        "random_search = RandomizedSearchCV(\n",
        "    estimator=dt,\n",
        "    param_distributions=param_dist,\n",
        "    n_iter=100,\n",
        "    cv=5,\n",
        "    scoring='neg_mean_squared_error',\n",
        "    random_state=42,\n",
        "    n_jobs=-1\n",
        ")\n",
        "\n",
        "random_search.fit(X_train, y_train)\n",
        "\n",
        "# 5. En iyi model ile tahmin\n",
        "best_model = random_search.best_estimator_\n",
        "y_pred = best_model.predict(X_test)\n",
        "\n",
        "# Tahmin ve metrikler\n",
        "mse = mean_squared_error(y_test, y_pred)\n",
        "rmse = np.sqrt(mse)\n",
        "r2 = r2_score(y_test, y_pred)\n",
        "\n",
        "print(\"🔍 En iyi hiperparametreler:\", random_search.best_params_)\n",
        "print(f\"📉 Yeni MSE: {mse:.2f}\")\n",
        "print(f\"📉 Yeni RMSE: {rmse:.2f}\")\n",
        "print(f\"📈 Yeni R² Score: {r2:.4f}\")\n"
      ],
      "metadata": {
        "colab": {
          "base_uri": "https://localhost:8080/"
        },
        "id": "cnqBQkGs68FM",
        "outputId": "be38b8f9-e630-469a-9214-92f176d7e5fa"
      },
      "execution_count": null,
      "outputs": [
        {
          "output_type": "stream",
          "name": "stdout",
          "text": [
            "🔍 En iyi hiperparametreler: {'max_depth': 12, 'min_samples_leaf': 4, 'min_samples_split': 15}\n",
            "📉 Yeni MSE: 452703306638.86\n",
            "📉 Yeni RMSE: 672832.30\n",
            "📈 Yeni R² Score: 0.9223\n"
          ]
        }
      ]
    },
    {
      "cell_type": "markdown",
      "source": [
        "MSE, Ortalama kare hatayı temsil eder. Değeri ne kadar küçükse, model o kadar iyi demektir. Bu değer, modelin tahmin ettiği fiyatlarla gerçek fiyatlar arasında hâlâ milyonlar seviyesinde bir fark olabildiğini gösteriyor.\n",
        "\n",
        "RMSE, Hatanın birim olarak fiyatla aynı hale getirilmiş hâlidir. Yani, modelin tahminlerinde ortalama yaklaşık 673 bin TL sapma var. Konut fiyatlarının milyonlar düzeyinde olduğu bir veri setinde bu değer orta düzeyde kabul edilebilir.\n",
        "\n",
        "Sonuç Olarak;\n",
        "\n",
        "GridSearchCV, en iyi sonucu verdi: En düşük MSE ve en yüksek R² değeri.\n",
        "\n",
        "RandomizedSearchCV, GridSearch'e çok yakın performans sergiledi ancak biraz daha hızlıdır.\n",
        "\n",
        "Base Model, diğerlerine göre daha düşük doğrulukta ve daha yüksek hata oranına sahip."
      ],
      "metadata": {
        "id": "g4bYsXfy8eeu"
      }
    }
  ]
}