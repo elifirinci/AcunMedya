{
  "nbformat": 4,
  "nbformat_minor": 0,
  "metadata": {
    "colab": {
      "provenance": []
    },
    "kernelspec": {
      "name": "python3",
      "display_name": "Python 3"
    },
    "language_info": {
      "name": "python"
    }
  },
  "cells": [
    {
      "cell_type": "code",
      "execution_count": 26,
      "metadata": {
        "id": "OrEcfhmQnOV3"
      },
      "outputs": [],
      "source": [
        "import pandas as pd\n",
        "from sklearn.model_selection import train_test_split\n",
        "from sklearn.linear_model import LinearRegression, Ridge, Lasso\n",
        "from sklearn.metrics import mean_squared_error, r2_score\n",
        "import numpy as np"
      ]
    },
    {
      "cell_type": "code",
      "source": [
        "file_path = '/content/drive/MyDrive/hitters_processed.pkl'\n",
        "data = pd.read_pickle(file_path)"
      ],
      "metadata": {
        "id": "CPF-JsNVnWfN"
      },
      "execution_count": 27,
      "outputs": []
    },
    {
      "cell_type": "code",
      "source": [
        "# Hedef değişken ve bağımsız değişkenleri ayır\n",
        "\n",
        "X = data.drop(columns=['Salary'])\n",
        "y = data['Salary']"
      ],
      "metadata": {
        "id": "Il98cS-qno0E"
      },
      "execution_count": 28,
      "outputs": []
    },
    {
      "cell_type": "code",
      "source": [
        "# train,test böl\n",
        "\n",
        "X_train, X_test, y_train, y_test = train_test_split(X, y, test_size=0.2, random_state=42)"
      ],
      "metadata": {
        "id": "g_xubn0Qn3Wi"
      },
      "execution_count": 29,
      "outputs": []
    },
    {
      "cell_type": "code",
      "source": [
        "linear_model= LinearRegression()\n",
        "ridge_model = Ridge(alpha=1.0)  # Ridge parametresi alpha\n",
        "lasso_model = Lasso(alpha=0.1)  # Lasso parametresi alpha\n",
        "\n",
        "# Modelleri eğit\n",
        "linear_model.fit(X_train, y_train)\n",
        "ridge_model.fit(X_train, y_train)\n",
        "lasso_model.fit(X_train, y_train)\n",
        "\n",
        "# Test verisi üzerinde tahmin yap\n",
        "linear_preds = linear_model.predict(X_test)\n",
        "ridge_preds = ridge_model.predict(X_test)\n",
        "lasso_preds = lasso_model.predict(X_test)\n",
        "\n",
        "# Modellerin performansını değerlendir\n",
        "results = pd.DataFrame({\n",
        "    \"Model\": [\"Linear Regression\", \"Ridge Regression\", \"Lasso Regression\"],\n",
        "    \"MSE\": [\n",
        "        mean_squared_error(y_test, linear_preds),\n",
        "        mean_squared_error(y_test, ridge_preds),\n",
        "        mean_squared_error(y_test, lasso_preds)\n",
        "    ],\n",
        "    \"R2 Score\": [\n",
        "        r2_score(y_test, linear_preds),\n",
        "        r2_score(y_test, ridge_preds),\n",
        "        r2_score(y_test, lasso_preds)\n",
        "    ]\n",
        "})\n",
        "\n",
        "# Sonuçları yazdır\n",
        "print(results)\n"
      ],
      "metadata": {
        "colab": {
          "base_uri": "https://localhost:8080/"
        },
        "id": "zS6s3I77n6q2",
        "outputId": "fe939d5c-8771-4cf2-9e3f-f8882d96a2d3"
      },
      "execution_count": 30,
      "outputs": [
        {
          "output_type": "stream",
          "name": "stdout",
          "text": [
            "               Model           MSE  R2 Score\n",
            "0  Linear Regression  42335.518494  0.698201\n",
            "1   Ridge Regression  48202.134026  0.656380\n",
            "2   Lasso Regression  41841.474791  0.701723\n"
          ]
        },
        {
          "output_type": "stream",
          "name": "stderr",
          "text": [
            "/usr/local/lib/python3.11/dist-packages/sklearn/linear_model/_coordinate_descent.py:695: ConvergenceWarning: Objective did not converge. You might want to increase the number of iterations, check the scale of the features or consider increasing regularisation. Duality gap: 1.006e+06, tolerance: 3.462e+03\n",
            "  model = cd_fast.enet_coordinate_descent(\n"
          ]
        }
      ]
    },
    {
      "cell_type": "markdown",
      "source": [
        "**Linear Regresyon**\n",
        "* MSE, tahminlerle gerçek değerler arasındaki farkların karelerinin ortalaması. Yani ne kadar düşükse o kadar iyi. R² ise modelin bağımsız değişkenlerin bağımlı değişkeni açıklama oranını gösteriyor, 0 ile 1 arasında ve yüksek olması iyi.R^2'nin yaklaşık %70 olması modelin iyi çalıştığını gösteriyor ama MSE'nin yüksek olması tahminlerde önemli hatalar olabileceğine işaret ediyor.\n",
        "\n",
        "**Ridge Regresyon**\n",
        "* Linear ve Lassoya göre daha yüksek bir MSE'ye sahip,bu Ridge'in tahminlerinde daha belirsiz olduğunu gösteriyor.\n",
        "\n",
        "**Lasso Regresyon**\n",
        "* Ridge'e göre daha kesin tahminler yapıyor. Linear'le karşılaştırıldığında hem daha düşük MSE hem de daha yüksek bir R^2 olduğu için daha iyi performans gösteriyor.\n"
      ],
      "metadata": {
        "id": "OWVUjaUpovz8"
      }
    },
    {
      "cell_type": "code",
      "source": [
        "#En iyi alpha değerlerini bulup modeli tekrardan eğitiyoruz\n",
        "\n",
        "from sklearn.model_selection import GridSearchCV\n",
        "from sklearn.model_selection import train_test_split\n",
        "from sklearn.linear_model import Ridge, Lasso\n",
        "from sklearn.preprocessing import PolynomialFeatures\n",
        "from sklearn.pipeline import Pipeline\n",
        "from sklearn.metrics import mean_squared_error, r2_score\n",
        "import pandas as pd\n",
        "\n",
        "\n",
        "# Create polynomial features\n",
        "poly = PolynomialFeatures(degree=2, include_bias=False)\n",
        "\n",
        "# Define the alpha values to test\n",
        "alpha_values = {'ridge__alpha': [0.01, 0.1, 1.0, 10.0, 100.0], 'lasso__alpha': [0.01, 0.1, 1.0, 10.0, 100.0]}\n",
        "\n",
        "# Create Ridge and Lasso pipelines\n",
        "ridge_pipeline = Pipeline([\n",
        "    ('poly', poly),\n",
        "    ('ridge', Ridge())\n",
        "])\n",
        "\n",
        "lasso_pipeline = Pipeline([\n",
        "    ('poly', poly),\n",
        "    ('lasso', Lasso(max_iter=10000))\n",
        "])\n",
        "\n",
        "# Perform GridSearchCV for Ridge\n",
        "ridge_search = GridSearchCV(ridge_pipeline, param_grid={'ridge__alpha': alpha_values['ridge__alpha']}, cv=5, scoring='neg_mean_squared_error')\n",
        "ridge_search.fit(X_train, y_train)\n",
        "\n",
        "# Perform GridSearchCV for Lasso\n",
        "lasso_search = GridSearchCV(lasso_pipeline, param_grid={'lasso__alpha': alpha_values['lasso__alpha']}, cv=5, scoring='neg_mean_squared_error')\n",
        "lasso_search.fit(X_train, y_train)\n",
        "\n",
        "# Best alpha values\n",
        "best_ridge_alpha = ridge_search.best_params_['ridge__alpha']\n",
        "best_lasso_alpha = lasso_search.best_params_['lasso__alpha']\n",
        "\n",
        "# Refit models with the best alpha values\n",
        "ridge_best_model = ridge_search.best_estimator_\n",
        "lasso_best_model = lasso_search.best_estimator_\n",
        "\n",
        "# Predictions\n",
        "ridge_best_preds = ridge_best_model.predict(X_test)\n",
        "lasso_best_preds = lasso_best_model.predict(X_test)\n",
        "\n",
        "# Evaluate models\n",
        "results = pd.DataFrame({\n",
        "    \"Model\": [\"Optimized Ridge Regression\", \"Optimized Lasso Regression\"],\n",
        "    \"Best Alpha\": [best_ridge_alpha, best_lasso_alpha],\n",
        "    \"MSE\": [\n",
        "        mean_squared_error(y_test, ridge_best_preds),\n",
        "        mean_squared_error(y_test, lasso_best_preds)\n",
        "    ],\n",
        "    \"R2 Score\": [\n",
        "        r2_score(y_test, ridge_best_preds),\n",
        "        r2_score(y_test, lasso_best_preds)\n",
        "    ]\n",
        "})\n",
        "\n",
        "print(results)\n",
        "\n"
      ],
      "metadata": {
        "colab": {
          "base_uri": "https://localhost:8080/"
        },
        "id": "xqFIAgU0sN4A",
        "outputId": "6018d4b4-6c9f-445a-8772-5a66303efb50"
      },
      "execution_count": 31,
      "outputs": [
        {
          "output_type": "stream",
          "name": "stderr",
          "text": [
            "/usr/local/lib/python3.11/dist-packages/sklearn/linear_model/_coordinate_descent.py:695: ConvergenceWarning: Objective did not converge. You might want to increase the number of iterations, check the scale of the features or consider increasing regularisation. Duality gap: 6.017e+03, tolerance: 2.637e+03\n",
            "  model = cd_fast.enet_coordinate_descent(\n",
            "/usr/local/lib/python3.11/dist-packages/sklearn/linear_model/_coordinate_descent.py:695: ConvergenceWarning: Objective did not converge. You might want to increase the number of iterations, check the scale of the features or consider increasing regularisation. Duality gap: 8.798e+03, tolerance: 2.755e+03\n",
            "  model = cd_fast.enet_coordinate_descent(\n",
            "/usr/local/lib/python3.11/dist-packages/sklearn/linear_model/_coordinate_descent.py:695: ConvergenceWarning: Objective did not converge. You might want to increase the number of iterations, check the scale of the features or consider increasing regularisation. Duality gap: 1.080e+04, tolerance: 2.671e+03\n",
            "  model = cd_fast.enet_coordinate_descent(\n",
            "/usr/local/lib/python3.11/dist-packages/sklearn/linear_model/_coordinate_descent.py:695: ConvergenceWarning: Objective did not converge. You might want to increase the number of iterations, check the scale of the features or consider increasing regularisation. Duality gap: 7.318e+03, tolerance: 2.743e+03\n",
            "  model = cd_fast.enet_coordinate_descent(\n",
            "/usr/local/lib/python3.11/dist-packages/sklearn/linear_model/_coordinate_descent.py:695: ConvergenceWarning: Objective did not converge. You might want to increase the number of iterations, check the scale of the features or consider increasing regularisation. Duality gap: 1.135e+04, tolerance: 3.005e+03\n",
            "  model = cd_fast.enet_coordinate_descent(\n",
            "/usr/local/lib/python3.11/dist-packages/sklearn/linear_model/_coordinate_descent.py:695: ConvergenceWarning: Objective did not converge. You might want to increase the number of iterations, check the scale of the features or consider increasing regularisation. Duality gap: 1.167e+04, tolerance: 2.637e+03\n",
            "  model = cd_fast.enet_coordinate_descent(\n",
            "/usr/local/lib/python3.11/dist-packages/sklearn/linear_model/_coordinate_descent.py:695: ConvergenceWarning: Objective did not converge. You might want to increase the number of iterations, check the scale of the features or consider increasing regularisation. Duality gap: 1.389e+04, tolerance: 2.755e+03\n",
            "  model = cd_fast.enet_coordinate_descent(\n",
            "/usr/local/lib/python3.11/dist-packages/sklearn/linear_model/_coordinate_descent.py:695: ConvergenceWarning: Objective did not converge. You might want to increase the number of iterations, check the scale of the features or consider increasing regularisation. Duality gap: 3.820e+04, tolerance: 2.671e+03\n",
            "  model = cd_fast.enet_coordinate_descent(\n",
            "/usr/local/lib/python3.11/dist-packages/sklearn/linear_model/_coordinate_descent.py:695: ConvergenceWarning: Objective did not converge. You might want to increase the number of iterations, check the scale of the features or consider increasing regularisation. Duality gap: 1.273e+04, tolerance: 2.743e+03\n",
            "  model = cd_fast.enet_coordinate_descent(\n",
            "/usr/local/lib/python3.11/dist-packages/sklearn/linear_model/_coordinate_descent.py:695: ConvergenceWarning: Objective did not converge. You might want to increase the number of iterations, check the scale of the features or consider increasing regularisation. Duality gap: 2.693e+04, tolerance: 3.005e+03\n",
            "  model = cd_fast.enet_coordinate_descent(\n"
          ]
        },
        {
          "output_type": "stream",
          "name": "stdout",
          "text": [
            "                        Model  Best Alpha           MSE  R2 Score\n",
            "0  Optimized Ridge Regression       100.0  65734.922802  0.531393\n",
            "1  Optimized Lasso Regression        10.0  64507.414295  0.540144\n"
          ]
        }
      ]
    },
    {
      "cell_type": "markdown",
      "source": [
        "Her iki modelin de optimize edilmiş olmasına rağmen performansları önceki standart Ridge/Lasso modellerine göre düştü. MSE'nin 64k-65k bandına çıkması ve R^2'nin 0.53-0.54 seviyesinde kalması, modellerin veriyi yeterince öğrenemediğini gösteriyor."
      ],
      "metadata": {
        "id": "_Lxnb_vBp5YB"
      }
    },
    {
      "cell_type": "code",
      "source": [],
      "metadata": {
        "id": "l2-15z6Ct3tC"
      },
      "execution_count": null,
      "outputs": []
    }
  ]
}